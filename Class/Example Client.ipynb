{
 "cells": [
  {
   "cell_type": "markdown",
   "id": "8887bf00",
   "metadata": {},
   "source": [
    "## Example: server model\n",
    "1. first client initiate a connection to the server (info sent)  eg. seb\n",
    "2. server will capitalize the info sent and send it back to the client eg. SEB\n",
    "3. client displays capitalized info on the screen  eg. SEB"
   ]
  },
  {
   "cell_type": "code",
   "execution_count": null,
   "id": "5229e147",
   "metadata": {},
   "outputs": [],
   "source": [
    "import socket\n",
    "import sys\n",
    "\n",
    "HOST, PORT = \"127.0.0.1\", 9999\n",
    "data = \"hello my friend\"\n",
    "\n",
    "# Create a socket (SOCK_STREAM means a TCP socket)\n",
    "with socket.socket(socket.AF_INET, socket.SOCK_STREAM) as sock:\n",
    "    # Connect to server and send data\n",
    "    sock.connect((HOST, PORT))\n",
    "    sock.sendall(bytes(data + \"\\n\", \"utf-8\"))\n",
    "\n",
    "    # Receive data from the server and shut down\n",
    "    received = str(sock.recv(1024), \"utf-8\")\n",
    "\n",
    "print(\"Sent:     {}\".format(data))\n",
    "print(\"Received: {}\".format(received))\n",
    "\n",
    "\n",
    "#output: \n",
    "#Sent: hello my friend\n",
    "#Received: HELLO MY FRIEND"
   ]
  },
  {
   "cell_type": "markdown",
   "id": "3717113c",
   "metadata": {},
   "source": [
    "## Example: \n",
    "1. initiate connection send nothing to the server\n",
    "2. servcer each time send 1,2,3,...., until 10\n",
    "3. each time, calculate the moving average"
   ]
  },
  {
   "cell_type": "code",
   "execution_count": null,
   "id": "cd45eeb2",
   "metadata": {},
   "outputs": [],
   "source": [
    "# import socket\n",
    "# import sys\n",
    "\n",
    "# HOST, PORT = \"127.0.0.1\", 9999\n",
    "\n",
    "# # Create a socket (SOCK_STREAM means a TCP socket)\n",
    "# with socket.socket(socket.AF_INET, socket.SOCK_STREAM) as sock:\n",
    "#     numbers = []\n",
    "\n",
    "#     # Connect to server and send data\n",
    "#     sock.connect((HOST, PORT))\n",
    "    \n",
    "#     for _ in range(11):\n",
    "#         received = int(str(sock.recv(1024),\"utf-8\"))\n",
    "#         numbers.append(received)\n",
    "#         print(numbers)\n",
    "#         print(sum(numbers)/len(numbers))\n",
    "\n",
    "# '''\n",
    "# output: \n",
    "# [0]\n",
    "# 0.0\n",
    "# [0, 1]\n",
    "# 0.5\n",
    "# [0, 1, 2]\n",
    "# 1.0\n",
    "# [0, 1, 2, 3]\n",
    "# 1.5\n",
    "# [0, 1, 2, 3, 4]\n",
    "# 2.0\n",
    "# [0, 1, 2, 3, 4, 5]\n",
    "# 2.5\n",
    "# [0, 1, 2, 3, 4, 5, 6]\n",
    "# 3.0\n",
    "# [0, 1, 2, 3, 4, 5, 6, 7]\n",
    "# 3.5\n",
    "# [0, 1, 2, 3, 4, 5, 6, 7, 8]\n",
    "# 4.0\n",
    "# [0, 1, 2, 3, 4, 5, 6, 7, 8, 9]\n",
    "# 4.5\n",
    "# [0, 1, 2, 3, 4, 5, 6, 7, 8, 9, 10]\n",
    "# 5.0\n",
    "# '''"
   ]
  },
  {
   "cell_type": "markdown",
   "id": "6e8476bd",
   "metadata": {},
   "source": [
    "## Example 3: \n",
    "You will create a client-server:\n",
    "\n",
    "the server will send 200 random number going from 5 to 15 every 0.5 second.\n",
    "the client will calculate 2 moving average. the small moving average out of 10 data, the long moving average out of 20 data. When the small moving average intersect upward the long moving average you will send a buy order, otherwise you will send a sell order.\n",
    "\n"
   ]
  },
  {
   "cell_type": "code",
   "execution_count": null,
   "id": "ac666604",
   "metadata": {},
   "outputs": [],
   "source": [
    "import socket\n",
    "import sys\n",
    "\n",
    "HOST, PORT = \"127.0.0.1\", 9999\n",
    "\n",
    "# Create a socket (SOCK_STREAM means a TCP socket)\n",
    "with socket.socket(socket.AF_INET, socket.SOCK_STREAM) as sock:\n",
    "\n",
    "    # Connect to server and send data\n",
    "    sock.connect((HOST, PORT))\n",
    "    mov_avg = []\n",
    "    while True:\n",
    "        received = sock.recv(1024)\n",
    "        if not received:\n",
    "            break\n",
    "        number = received_data.decode(\"utf-8\")\n",
    "        mov_avg.append(int(number))\n",
    "        if len(mov_avg) >= 20:\n",
    "            long_ma = sum(mov_avg[-20:]) / 20\n",
    "            small_ma = sum(mov_avg[-10:]) / 10\n",
    "            if small_ma > long_ma:\n",
    "                print(\"BUY\")\n",
    "            if small_ma < long_ma:\n",
    "                print(\"SELL\")\n",
    "                \n",
    "if __name__ == \"__main__\":\n",
    "    print('END CODE')"
   ]
  },
  {
   "cell_type": "code",
   "execution_count": null,
   "id": "9344661f",
   "metadata": {},
   "outputs": [],
   "source": [
    "import socket\n",
    "import sys\n",
    "\n",
    "HOST, PORT = \"192.168.1.157\", 9995\n",
    "\n",
    "# Create a socket (SOCK_STREAM means a TCP socket)\n",
    "with socket.socket(socket.AF_INET, socket.SOCK_STREAM) as sock:\n",
    "    numbers = []\n",
    "    # Connect to server and send data\n",
    "    sock.connect((HOST, PORT))\n",
    "    \n",
    "    for _ in range(11):\n",
    "        received = str(sock.recv(1024),\"utf-8\")\n",
    "        print(received)\n",
    "\n"
   ]
  },
  {
   "cell_type": "code",
   "execution_count": null,
   "id": "25007e39",
   "metadata": {},
   "outputs": [],
   "source": []
  }
 ],
 "metadata": {
  "kernelspec": {
   "display_name": "Python 3 (ipykernel)",
   "language": "python",
   "name": "python3"
  },
  "language_info": {
   "codemirror_mode": {
    "name": "ipython",
    "version": 3
   },
   "file_extension": ".py",
   "mimetype": "text/x-python",
   "name": "python",
   "nbconvert_exporter": "python",
   "pygments_lexer": "ipython3",
   "version": "3.8.8"
  }
 },
 "nbformat": 4,
 "nbformat_minor": 5
}
