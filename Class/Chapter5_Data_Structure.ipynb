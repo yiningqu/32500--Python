{
 "cells": [
  {
   "cell_type": "markdown",
   "id": "2b17493a",
   "metadata": {},
   "source": [
    "# Data Structure: Complexity\n",
    "\n",
    "## Unsorted List\n",
    "[1,5,3,9,2,4,6,7,8] Using linear search to find a value\n",
    "Best case: 1\n",
    "Average case: N/2\n",
    "Worst case: N"
   ]
  },
  {
   "cell_type": "markdown",
   "id": "c0d5c6fa",
   "metadata": {},
   "source": [
    "## How to create a Linked List without using library"
   ]
  },
  {
   "cell_type": "code",
   "execution_count": 1,
   "id": "2fcecfb6",
   "metadata": {},
   "outputs": [],
   "source": [
    "class Node:\n",
    "    def __init__(self,value,next_value):\n",
    "        self.value = value\n",
    "        self.next = next_value\n",
    "\n",
    "\n",
    "def display_linked_list(n):\n",
    "    curr = n\n",
    "    while curr is not None:\n",
    "        print(curr.value)\n",
    "        curr = curr.next\n",
    "\n",
    "def insert_number(n,num):\n",
    "    node = Node(num,None)\n",
    "    curr = n\n",
    "    while curr.next is not None:\n",
    "        curr = curr.next\n",
    "    curr.next = node\n",
    "    \n",
    "\n",
    "def delete_number(n, num):\n",
    "    if n.value == num:\n",
    "        tmp = n.next\n",
    "        n.next = None\n",
    "        del n\n",
    "        return tmp\n",
    "    \n",
    "    \n",
    "    curr = n\n",
    "    while curr.next != None:\n",
    "        if curr.next.value == num:\n",
    "            curr.next = curr.next.next\n",
    "        curr = curr.next\n"
   ]
  },
  {
   "cell_type": "code",
   "execution_count": 5,
   "id": "092171cf",
   "metadata": {},
   "outputs": [
    {
     "ename": "AttributeError",
     "evalue": "'NoneType' object has no attribute 'next'",
     "output_type": "error",
     "traceback": [
      "\u001b[0;31m---------------------------------------------------------------------------\u001b[0m",
      "\u001b[0;31mAttributeError\u001b[0m                            Traceback (most recent call last)",
      "\u001b[0;32m<ipython-input-5-3019b5696486>\u001b[0m in \u001b[0;36m<module>\u001b[0;34m\u001b[0m\n\u001b[1;32m     11\u001b[0m \u001b[0;34m\u001b[0m\u001b[0m\n\u001b[1;32m     12\u001b[0m \u001b[0minsert_number\u001b[0m\u001b[0;34m(\u001b[0m\u001b[0mn1\u001b[0m\u001b[0;34m,\u001b[0m\u001b[0;36m6\u001b[0m\u001b[0;34m)\u001b[0m\u001b[0;34m\u001b[0m\u001b[0;34m\u001b[0m\u001b[0m\n\u001b[0;32m---> 13\u001b[0;31m \u001b[0mdelete_number\u001b[0m\u001b[0;34m(\u001b[0m\u001b[0mn1\u001b[0m\u001b[0;34m,\u001b[0m\u001b[0;36m6\u001b[0m\u001b[0;34m)\u001b[0m\u001b[0;34m\u001b[0m\u001b[0;34m\u001b[0m\u001b[0m\n\u001b[0m\u001b[1;32m     14\u001b[0m \u001b[0mdisplay_linked_list\u001b[0m\u001b[0;34m(\u001b[0m\u001b[0mn1\u001b[0m\u001b[0;34m)\u001b[0m\u001b[0;34m\u001b[0m\u001b[0;34m\u001b[0m\u001b[0m\n\u001b[1;32m     15\u001b[0m \u001b[0;34m\u001b[0m\u001b[0m\n",
      "\u001b[0;32m<ipython-input-1-12f77ff04392>\u001b[0m in \u001b[0;36mdelete_number\u001b[0;34m(n, num)\u001b[0m\n\u001b[1;32m     28\u001b[0m \u001b[0;34m\u001b[0m\u001b[0m\n\u001b[1;32m     29\u001b[0m     \u001b[0mcurr\u001b[0m \u001b[0;34m=\u001b[0m \u001b[0mn\u001b[0m\u001b[0;34m\u001b[0m\u001b[0;34m\u001b[0m\u001b[0m\n\u001b[0;32m---> 30\u001b[0;31m     \u001b[0;32mwhile\u001b[0m \u001b[0mcurr\u001b[0m\u001b[0;34m.\u001b[0m\u001b[0mnext\u001b[0m \u001b[0;34m!=\u001b[0m \u001b[0;32mNone\u001b[0m\u001b[0;34m:\u001b[0m\u001b[0;34m\u001b[0m\u001b[0;34m\u001b[0m\u001b[0m\n\u001b[0m\u001b[1;32m     31\u001b[0m         \u001b[0;32mif\u001b[0m \u001b[0mcurr\u001b[0m\u001b[0;34m.\u001b[0m\u001b[0mnext\u001b[0m\u001b[0;34m.\u001b[0m\u001b[0mvalue\u001b[0m \u001b[0;34m==\u001b[0m \u001b[0mnum\u001b[0m\u001b[0;34m:\u001b[0m\u001b[0;34m\u001b[0m\u001b[0;34m\u001b[0m\u001b[0m\n\u001b[1;32m     32\u001b[0m             \u001b[0mcurr\u001b[0m\u001b[0;34m.\u001b[0m\u001b[0mnext\u001b[0m \u001b[0;34m=\u001b[0m \u001b[0mcurr\u001b[0m\u001b[0;34m.\u001b[0m\u001b[0mnext\u001b[0m\u001b[0;34m.\u001b[0m\u001b[0mnext\u001b[0m\u001b[0;34m\u001b[0m\u001b[0;34m\u001b[0m\u001b[0m\n",
      "\u001b[0;31mAttributeError\u001b[0m: 'NoneType' object has no attribute 'next'"
     ]
    }
   ],
   "source": [
    "# n1 = Node(1,None)  #Node.next has no value\n",
    "# n1 = Node(2,None)\n",
    "# n1.next = n2   #把两个node连起来\n",
    "\n",
    "#或者\n",
    "n5 = Node(5,None)\n",
    "n4 = Node(4,n5)\n",
    "n3 = Node(3,n4)\n",
    "n2 = Node(2,n3)\n",
    "n1 = Node(1,n2)\n",
    "\n",
    "insert_number(n1,6)\n",
    "delete_number(n1,6)\n",
    "display_linked_list(n1)\n",
    "\n",
    "\n",
    "\n",
    "\n"
   ]
  },
  {
   "cell_type": "code",
   "execution_count": null,
   "id": "d44abc6f",
   "metadata": {},
   "outputs": [],
   "source": []
  },
  {
   "cell_type": "code",
   "execution_count": null,
   "id": "102110ef",
   "metadata": {},
   "outputs": [],
   "source": []
  }
 ],
 "metadata": {
  "kernelspec": {
   "display_name": "Python 3 (ipykernel)",
   "language": "python",
   "name": "python3"
  },
  "language_info": {
   "codemirror_mode": {
    "name": "ipython",
    "version": 3
   },
   "file_extension": ".py",
   "mimetype": "text/x-python",
   "name": "python",
   "nbconvert_exporter": "python",
   "pygments_lexer": "ipython3",
   "version": "3.8.8"
  }
 },
 "nbformat": 4,
 "nbformat_minor": 5
}
