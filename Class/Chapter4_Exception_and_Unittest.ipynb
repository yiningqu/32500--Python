{
 "cells": [
  {
   "cell_type": "markdown",
   "id": "217fc79d",
   "metadata": {},
   "source": [
    "# Unittest & __repr__"
   ]
  },
  {
   "cell_type": "code",
   "execution_count": 2,
   "id": "d99a0756",
   "metadata": {},
   "outputs": [],
   "source": [
    "class Side():\n",
    "    BUY = 1\n",
    "    SELL = 2\n",
    "\n",
    "\n",
    "class finance:\n",
    "    def __init__(self,s,p,q,side):\n",
    "        self.symbol = s\n",
    "        self.price = p\n",
    "        self.quantity = q\n",
    "        self.side = side\n",
    "    \n",
    "    def display(self):\n",
    "        return f'FP({self.symbol},{self.price},{self.quantity},{self.side})'\n",
    "    \n",
    "    def __repr__(self): #__repr__ 用来return a string\n",
    "        return self.display()\n",
    "\n",
    "class Stock(finance):\n",
    "    def __init__(self,s,p,q,d,side):\n",
    "        super().__init__(s,p,q,side)\n",
    "        self.dividend = d\n",
    "        \n",
    "    def display(self):\n",
    "#         st1 = super().display()\n",
    "#         return st1 + f'{self.dividend}'\n",
    "        return f'FP({self.symbol},{self.price},{self.quantity},{self.side},{self.dividend})'\n",
    "    \n",
    "    def __repr__(self): \n",
    "        return self.display()\n",
    "    \n",
    "\n",
    "\n"
   ]
  },
  {
   "cell_type": "code",
   "execution_count": 3,
   "id": "9659d223",
   "metadata": {},
   "outputs": [
    {
     "name": "stdout",
     "output_type": "stream",
     "text": [
      "FP(APPL,10,100,2,0)\n"
     ]
    }
   ],
   "source": [
    "import unittest\n",
    "# from finance import Stock,finance\n",
    "# from finance import *   #import all in finance\n",
    "# import finance as fi   #只有在有different file的时候需要\n",
    "\n",
    "if __name__ == '__main__':\n",
    "    s1 = Stock('APPL',10,100,0,Side.SELL)\n",
    "    print(s1)   #__repr__可以让结果不用.display()就可以有output\n",
    "    \n",
    "\n",
    "    \n",
    "class TestFinance(unittest.TestCase):  #用来test code是否正确\n",
    "    def test_create_financial_product(self):\n",
    "        fi = fi.FinanialProduct('APPL',10,100,0,fi.Side.BUY)\n",
    "        self.assertEqual(fi.price,10)\n",
    "        self.assertEqual(fi.side,fi.Side.BUY)\n",
    "\n"
   ]
  },
  {
   "cell_type": "code",
   "execution_count": 1,
   "id": "155ad374",
   "metadata": {},
   "outputs": [
    {
     "name": "stdout",
     "output_type": "stream",
     "text": [
      "FP(APPL,10,100)Stock(APPL,10,100,0)\n"
     ]
    }
   ],
   "source": [
    "class Side:\n",
    "    BUY = 1\n",
    "    SELL = 2\n",
    "\n",
    "\n",
    "BUY =1\n",
    "SELL =2\n",
    "\n",
    "class FinancialProduct:\n",
    "    def __init__(self, s, p, q,side):\n",
    "        self.symbol = s\n",
    "        self.price = p\n",
    "        self.quantity = q\n",
    "        self.side = side\n",
    "    def display(self):\n",
    "        return f'FP({self.symbol},{self.price},{self.quantity})'\n",
    "    def __repr__(self):\n",
    "        return self.display()\n",
    "\n",
    "class Stock(FinancialProduct):\n",
    "    def __init__(self,s,p,q,d,side):\n",
    "        super().__init__(s,p,q,side)\n",
    "        self.dividend = d\n",
    "    def display(self):\n",
    "        st1=super().display()\n",
    "        return st1+f'Stock({self.symbol},{self.price},{self.quantity},{self.dividend})'\n",
    "    def __repr__(self):\n",
    "        return self.display()\n",
    "\n",
    "if __name__ == '__main__':\n",
    "    s1=Stock('APPL',10,100,0,Side.SELL)\n",
    "    print(s1)\n",
    "    # print(s1.display())"
   ]
  },
  {
   "cell_type": "markdown",
   "id": "79f9d31a",
   "metadata": {},
   "source": [
    "# Exception\n",
    "- handle unexpected or exceptional situations during program execution\n",
    "\n",
    "### Raise exceptions \n",
    "using 'raise' statement"
   ]
  },
  {
   "cell_type": "code",
   "execution_count": null,
   "id": "5647b1e6",
   "metadata": {},
   "outputs": [],
   "source": [
    "try:\n",
    "\n",
    "except ValueError: #handle ValueError\n",
    "\n",
    "except (TypeError, IndexError): #handle both TypeError and IndexError\n",
    "\n",
    "except Exception as e:  #e is the reference to the exception\n",
    "    print(f'An error occured: {str(e)}')\n",
    "\n",
    "finally:"
   ]
  },
  {
   "cell_type": "code",
   "execution_count": null,
   "id": "ca743253",
   "metadata": {},
   "outputs": [],
   "source": [
    "print(seb) \n",
    "#会到except Exception as e这一行，因为都不是前面的error"
   ]
  },
  {
   "cell_type": "markdown",
   "id": "3db9cffc",
   "metadata": {},
   "source": [
    "## example"
   ]
  },
  {
   "cell_type": "code",
   "execution_count": 37,
   "id": "b0b5087d",
   "metadata": {},
   "outputs": [
    {
     "name": "stdout",
     "output_type": "stream",
     "text": [
      "there is a problem somewhere Negative Quantity, line =10\n"
     ]
    }
   ],
   "source": [
    "import sys, os\n",
    "\n",
    "def LINE():\n",
    "    return sys._getframe(1).f_lineno\n",
    "\n",
    "\n",
    "#create exception class\n",
    "class NegativeQuantityError(Exception):\n",
    "    def __init__(self):\n",
    "        line_number = LINE()\n",
    "        super().__init__('Negative Quantity, line =' + str(line_number))\n",
    "\n",
    "\n",
    "\n",
    "class Side:\n",
    "    BUY = 1\n",
    "    SELL = 2\n",
    "\n",
    "\n",
    "BUY =1\n",
    "SELL =2\n",
    "\n",
    "class FinancialProduct:\n",
    "    def __init__(self, s, p, q,side):\n",
    "        self.symbol = s\n",
    "        self.price = p\n",
    "        if q<0:\n",
    "            raise NegativeQuantityError()\n",
    "        self.quantity = q\n",
    "        self.side = side\n",
    "    def display(self):\n",
    "        return f'FP({self.symbol},{self.price},{self.quantity})'\n",
    "    def __repr__(self):\n",
    "        return self.display()\n",
    "\n",
    "class Stock(FinancialProduct):\n",
    "    def __init__(self,s,p,q,d,side):\n",
    "        super().__init__(s,p,q,side)\n",
    "        self.dividend = d\n",
    "    def display(self):\n",
    "        st1=super().display()\n",
    "        return st1+f'Stock({self.symbol},{self.price},{self.quantity},{self.dividend})'\n",
    "    def __repr__(self):\n",
    "        return self.display()\n",
    "\n",
    "if __name__ == '__main__':\n",
    "    try:\n",
    "        s1=Stock('APPL',10,-100,0,Side.SELL)\n",
    "        print(s1)\n",
    "        # print(s1.display())\n",
    "\n",
    "    except ZeroDivisionError as e:\n",
    "        print('I am going to use a return equals to 0')\n",
    "        \n",
    "    except Exception as e:\n",
    "        print('there is a problem somewhere',e)    #防止waiting for code running endlessly，找到error"
   ]
  }
 ],
 "metadata": {
  "kernelspec": {
   "display_name": "Python 3 (ipykernel)",
   "language": "python",
   "name": "python3"
  },
  "language_info": {
   "codemirror_mode": {
    "name": "ipython",
    "version": 3
   },
   "file_extension": ".py",
   "mimetype": "text/x-python",
   "name": "python",
   "nbconvert_exporter": "python",
   "pygments_lexer": "ipython3",
   "version": "3.8.8"
  }
 },
 "nbformat": 4,
 "nbformat_minor": 5
}
