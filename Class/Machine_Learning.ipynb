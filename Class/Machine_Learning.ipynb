{
 "cells": [
  {
   "cell_type": "markdown",
   "id": "85be6c88",
   "metadata": {},
   "source": [
    "# Decision Tree\n",
    "\n",
    "- predictive modeling tool for classification and regression\n",
    "- splitting dataset based on most significant attribute\n",
    "- 如果branch过多（太多parameter）会导致overfit"
   ]
  },
  {
   "cell_type": "code",
   "execution_count": null,
   "id": "ead3b9b9",
   "metadata": {},
   "outputs": [],
   "source": [
    "from sklearn.tree import DecisionTreeClassifier, DecisionTreeRegressor\n",
    "model = DecisionTreeClassifier()\n",
    "model = DecisionTreeRegressor()"
   ]
  },
  {
   "cell_type": "markdown",
   "id": "a0b98507",
   "metadata": {},
   "source": [
    "# Random Forest\n",
    "\n",
    "- multitude of decision trees (with different data)\n",
    "- all weaker than decision tree \n",
    "- prediction = average/voting from all individual trees"
   ]
  },
  {
   "cell_type": "code",
   "execution_count": null,
   "id": "0a1c15c5",
   "metadata": {},
   "outputs": [],
   "source": [
    "from sklearn.ensemble import RandomForestClassifier, RandomForestRegressor\n",
    "model = RandomForestClassifier()\n",
    "model = RandomForestRegressor()\n",
    "\n",
    "\n",
    "#extract feature importance from the trained Random Forest\n",
    "feature_importances = model.feature_importances_"
   ]
  },
  {
   "cell_type": "markdown",
   "id": "c264052c",
   "metadata": {},
   "source": [
    "# Types of Boosting\n",
    "\n",
    "- AdaBoost"
   ]
  },
  {
   "cell_type": "code",
   "execution_count": null,
   "id": "d437e956",
   "metadata": {},
   "outputs": [],
   "source": [
    "from sklearn.ensemble import AdaBoostClassifier, AdaBoostRegressor\n",
    "model = AdaBoostClassifier()\n",
    "model = AdaBoostRegressor()"
   ]
  },
  {
   "cell_type": "markdown",
   "id": "01ab9175",
   "metadata": {},
   "source": [
    "## Support Vector Machines\n",
    "- classification and regression analysis\n",
    "- effective for high-dimensional spaces\n",
    "\n",
    "## Kernel SVC\n",
    "\n",
    "## Neural Network\n"
   ]
  },
  {
   "cell_type": "code",
   "execution_count": null,
   "id": "48d6640a",
   "metadata": {},
   "outputs": [],
   "source": []
  },
  {
   "cell_type": "markdown",
   "id": "c35b4f83",
   "metadata": {},
   "source": [
    "# How to use machine learning method\n",
    "\n",
    "## Split Data\n",
    "- split data into: training set and testing set\n",
    "    - training set: train the model\n",
    "    - testing set: evaluate performance\n",
    "    \n",
    "## Evaluate the model\n",
    "- whether model is able to generalize well to new, unseen data\n",
    "\n",
    "## Tune the model\n",
    "- if not satisfactory, tune parameters or try different model\n",
    "    - adjust hyperparameters \n",
    "    - add or remove features\n",
    "    - try different algorithms"
   ]
  },
  {
   "cell_type": "code",
   "execution_count": null,
   "id": "a91383af",
   "metadata": {},
   "outputs": [],
   "source": []
  }
 ],
 "metadata": {
  "kernelspec": {
   "display_name": "Python 3 (ipykernel)",
   "language": "python",
   "name": "python3"
  },
  "language_info": {
   "codemirror_mode": {
    "name": "ipython",
    "version": 3
   },
   "file_extension": ".py",
   "mimetype": "text/x-python",
   "name": "python",
   "nbconvert_exporter": "python",
   "pygments_lexer": "ipython3",
   "version": "3.8.8"
  }
 },
 "nbformat": 4,
 "nbformat_minor": 5
}
