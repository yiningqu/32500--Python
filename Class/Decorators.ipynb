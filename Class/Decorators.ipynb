{
 "cells": [
  {
   "cell_type": "markdown",
   "id": "f2c99e1e",
   "metadata": {},
   "source": [
    "# Decorators"
   ]
  },
  {
   "cell_type": "code",
   "execution_count": 17,
   "id": "4235f000",
   "metadata": {},
   "outputs": [
    {
     "name": "stdout",
     "output_type": "stream",
     "text": [
      "<class 'function'> <class 'function'> 7\n",
      "8\n",
      "False\n",
      "8 9\n",
      "<function decorate.<locals>.inner_function at 0x7fab56866d30>\n"
     ]
    }
   ],
   "source": [
    "def square(n,m):\n",
    "    def add_one(n):\n",
    "        return n+1\n",
    "    return add_one(n*m)\n",
    "\n",
    "def operate(f,op1,op2):\n",
    "    return f(op1,op2)\n",
    "\n",
    "\n",
    "def decorate(p):\n",
    "    def inner_function(n):\n",
    "        return p+1+n\n",
    "    return inner_function\n",
    "\n",
    "\n",
    "f = square #可以assign function to a variable\n",
    "print(type(f),type(square),operate(square,2,3))\n",
    "print(decorate(3)(4))    #3+1+4需要两个parameter\n",
    "\n",
    "\n",
    "a = decorate(3)\n",
    "b = decorate(4)\n",
    "print(a == b)\n",
    "print(a(4),b(4))"
   ]
  },
  {
   "cell_type": "code",
   "execution_count": 28,
   "id": "3bde7313",
   "metadata": {},
   "outputs": [
    {
     "name": "stdout",
     "output_type": "stream",
     "text": [
      "Result of multiplication: 15\n",
      "Result of addition: 11\n",
      "Result of multiplication: 6\n",
      "Result of addition: 13\n"
     ]
    }
   ],
   "source": [
    "def operate(a,b,operation):\n",
    "    return operation(a,b)\n",
    "    \n",
    "def multiply(x,y):\n",
    "    return x*y\n",
    "\n",
    "result = operate(5, 3, multiply) \n",
    "print(\"Result of multiplication:\", result)\n",
    "\n",
    "add = lambda x,y: x+y\n",
    "    \n",
    "result = operate(7, 4, add) \n",
    "print(\"Result of addition:\", result)\n",
    "\n",
    "def get_operation(operation_func):\n",
    "    if operation_func == \"multiply\":\n",
    "        return multiply\n",
    "    else:\n",
    "        return add\n",
    "\n",
    "multiply_function = get_operation(\"multiply\") \n",
    "addition_function = get_operation(\"add\") \n",
    "result_multiply = operate(2, 3, multiply_function) \n",
    "result_add = operate(8, 5, addition_function) \n",
    "print(\"Result of multiplication:\", result_multiply) \n",
    "print(\"Result of addition:\", result_add)"
   ]
  },
  {
   "cell_type": "code",
   "execution_count": 33,
   "id": "292eb252",
   "metadata": {},
   "outputs": [
    {
     "name": "stdout",
     "output_type": "stream",
     "text": [
      "HELLO CLASS\n"
     ]
    }
   ],
   "source": [
    "def uppercase_decorator(func):\n",
    "    def wrapper(n):\n",
    "        #start timer\n",
    "        result = func(n)\n",
    "        #end timer\n",
    "        return result.upper()\n",
    "    return wrapper\n",
    "\n",
    "@uppercase_decorator\n",
    "def greet(n):\n",
    "    return f\"hello {n}\"\n",
    "\n",
    "print(greet('class'))\n",
    "#greet = uppercase_decorator(greet)"
   ]
  },
  {
   "cell_type": "code",
   "execution_count": 58,
   "id": "d347e5c4",
   "metadata": {},
   "outputs": [
    {
     "name": "stdout",
     "output_type": "stream",
     "text": [
      "Slow function executed.\n",
      "Time taken to execute slow_function: 3.0047 seconds\n"
     ]
    }
   ],
   "source": [
    "import time\n",
    "from functools import wraps\n",
    "\n",
    "def calculate_execution_time(message=\"Execution Time\"):\n",
    "    def decorator(func):\n",
    "        @wraps(func)\n",
    "        def wrapper(*args, **kwargs):\n",
    "            start_time = time.time()\n",
    "            result = func(*args, **kwargs)\n",
    "            end_time = time.time()\n",
    "            execution_time = end_time - start_time\n",
    "            print(f\"{message} {execution_time:.4f} seconds\")\n",
    "            return result\n",
    "        return wrapper\n",
    "    return decorator\n",
    "\n",
    "# Applying the updated decorator with a custom message\n",
    "@calculate_execution_time(\"Time taken to execute slow_function:\")\n",
    "def slow_function():\n",
    "    # Simulate a slow computation\n",
    "    time.sleep(3)\n",
    "    print(\"Slow function executed.\")\n",
    "\n",
    "# Calling the decorated function with a custom message\n",
    "slow_function()"
   ]
  },
  {
   "cell_type": "code",
   "execution_count": 53,
   "id": "fdba91fc",
   "metadata": {},
   "outputs": [
    {
     "name": "stdout",
     "output_type": "stream",
     "text": [
      "1 2\n",
      "(1, 2, 3, 4, 5)\n",
      "{}\n",
      "()\n",
      "{'a': 3, 'b': 4, 'c': 5}\n",
      "0:00:00.000688\n"
     ]
    }
   ],
   "source": [
    "import time\n",
    "from datetime import datetime\n",
    "\n",
    "\n",
    "def function1(a,b):\n",
    "    print(a,b)\n",
    "\n",
    "#当你不知道有什么input时可以用这个\n",
    "def function2(*args, **kwargs):\n",
    "    print(args)\n",
    "    print(kwargs)\n",
    "    \n",
    "\n",
    "start = datetime.now()\n",
    "function1(1,2)\n",
    "function2(1,2,3,4,5)\n",
    "function2(a=3,b=4,c=5)\n",
    "stop = datetime.now()\n",
    "print(stop - start)"
   ]
  },
  {
   "cell_type": "code",
   "execution_count": 91,
   "id": "42414c8a",
   "metadata": {},
   "outputs": [
    {
     "name": "stdout",
     "output_type": "stream",
     "text": [
      "setter price\n",
      "Order(666,100,1,1)\n",
      "Side: 1\n",
      "Side: 2\n"
     ]
    }
   ],
   "source": [
    "class Side:\n",
    "    Buy = 1\n",
    "    Sell = 2\n",
    "    \n",
    "    #When you need to have methods that aren’t bound \n",
    "    #to an instance, but still involve class-level data or methods.\n",
    "    @classmethod\n",
    "    def buy(cls):\n",
    "        return f'Side: {cls.Buy}'\n",
    "    \n",
    "    @classmethod\n",
    "    def sell(cls):\n",
    "        return f'Side: {cls.Sell}'\n",
    "\n",
    "    \n",
    "class Math:\n",
    "    \n",
    "    # When you have a utility method that \n",
    "    #doesn't access or modify class or instance data.\n",
    "    @staticmethod\n",
    "    def Pi():\n",
    "        return 3.1415926\n",
    "    \n",
    "    \n",
    "class Order:\n",
    "    number_of_order = 0\n",
    "    @classmethod\n",
    "    def increment_order_number(cls):\n",
    "        cls.number_of_order +=1 \n",
    "        \n",
    "    def __init__(self,p,q,s,orderid):\n",
    "        self.__price = p\n",
    "        self.__quantity = q\n",
    "        self.__side = s\n",
    "        self.__id = orderid\n",
    "        Order.increment_order_number()\n",
    "\n",
    "    @property\n",
    "    def price(self):\n",
    "        return self.__price\n",
    "    \n",
    "    @property\n",
    "    def quantity(self):\n",
    "        return self.__quantity\n",
    "    \n",
    "    @property\n",
    "    def side(self):\n",
    "        return self.__side\n",
    "    \n",
    "    @property\n",
    "    def id(self):\n",
    "        return self.__id\n",
    "\n",
    "    @price.setter\n",
    "    def price(self,n):\n",
    "        print('setter price')\n",
    "        if n < 0:\n",
    "            raise Exception('negative value')\n",
    "        else:\n",
    "            self.__price = n\n",
    "    \n",
    "    #必须和之前的名字一样\n",
    "    @quantity.setter    \n",
    "    def quantity(self,n):\n",
    "        if n < 0:\n",
    "            raise Exception('negative value')\n",
    "        else:\n",
    "            self.quantity = n\n",
    "    \n",
    "    @side.setter    \n",
    "    def side(self,n):\n",
    "        if not isinstance(n,str):\n",
    "            raise Exception(\"Side should be a string\")\n",
    "        else:\n",
    "            self.__side = n.lower()\n",
    "    \n",
    "    @id.setter    \n",
    "    def id(self,n):\n",
    "        if not isinstance(n,int):\n",
    "            raise Exception(\"Order ID should be an integer\")\n",
    "        else:\n",
    "            self.__id = n\n",
    "    \n",
    "    def display(self):\n",
    "        return (f'Order({self.__price},{self.quantity},{self.side},{self.id})')\n",
    "\n",
    "\n",
    "o1 = Order(10,100,Side.Buy,1)\n",
    "o1.price = 666\n",
    "print(o1.display())\n",
    "print(Side.buy())    ##it should print Side 1\n",
    "print(Side.sell())   #it should print Side 2"
   ]
  },
  {
   "cell_type": "code",
   "execution_count": 92,
   "id": "fa5851b6",
   "metadata": {},
   "outputs": [],
   "source": [
    "from abc import ABC\n",
    "\n",
    "class AlgoBase(ABC):\n",
    "    @abstractmethod\n",
    "    def onRejection(self):\n",
    "        pass\n",
    "    @abstractmethod\n",
    "    def OnFilled(self):\n",
    "        pass\n",
    "\n",
    "class MomemtumAlgo(AlgoBase):\n",
    "    def onRejection(self):\n",
    "        print('I will be disappointed')\n",
    "        \n",
    "    def OnFilled(self):\n",
    "        print('I will be happy')\n",
    "\n",
    "m1 = MomemtumAlgo()\n",
    "import sys\n",
    "sys.exit(1)"
   ]
  },
  {
   "cell_type": "markdown",
   "id": "3ac0d9c6",
   "metadata": {},
   "source": [
    "# Other Decorator:"
   ]
  },
  {
   "cell_type": "code",
   "execution_count": 95,
   "id": "57a483a3",
   "metadata": {},
   "outputs": [
    {
     "name": "stdout",
     "output_type": "stream",
     "text": [
      "55\n"
     ]
    }
   ],
   "source": [
    "from functools import lru_cache\n",
    "\n",
    "@lru_cache(maxsize=3)\n",
    "def fibonacci(n):\n",
    "    if n <= 1:\n",
    "        return n\n",
    "    return fibonacci(n-1) + fibonacci(n-2) \n",
    "\n",
    "print(fibonacci(10))"
   ]
  },
  {
   "cell_type": "code",
   "execution_count": null,
   "id": "2f124062",
   "metadata": {},
   "outputs": [],
   "source": []
  }
 ],
 "metadata": {
  "kernelspec": {
   "display_name": "Python 3 (ipykernel)",
   "language": "python",
   "name": "python3"
  },
  "language_info": {
   "codemirror_mode": {
    "name": "ipython",
    "version": 3
   },
   "file_extension": ".py",
   "mimetype": "text/x-python",
   "name": "python",
   "nbconvert_exporter": "python",
   "pygments_lexer": "ipython3",
   "version": "3.8.8"
  }
 },
 "nbformat": 4,
 "nbformat_minor": 5
}
