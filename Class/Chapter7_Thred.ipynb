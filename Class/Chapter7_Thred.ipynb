{
 "cells": [
  {
   "cell_type": "markdown",
   "id": "c3f0b82f",
   "metadata": {},
   "source": [
    "# Thread \n",
    "- concurrent execution of multiple tasks \n",
    "\n",
    "### 注意：\n",
    "- life of thread is on the process (如果没有code就没有thread）\n",
    "\n",
    "\n",
    "\n",
    "# difference between process and thred\n",
    "\n",
    "process 就是python code\n",
    "\n",
    "- process are independent and isolated instances of a program , has its own memory space\n",
    "\n",
    "- threads are lightweight units of execution within a process, sharing the same memory space "
   ]
  },
  {
   "cell_type": "code",
   "execution_count": 7,
   "id": "42f21220",
   "metadata": {},
   "outputs": [
    {
     "name": "stdout",
     "output_type": "stream",
     "text": [
      "1\n",
      "2\n",
      "3\n",
      "4\n",
      "5\n",
      "a\n",
      "b\n",
      "c\n",
      "d\n",
      "e\n",
      "Done\n"
     ]
    }
   ],
   "source": [
    "# usual code\n",
    "import threading \n",
    "import time\n",
    "\n",
    "def print_numbers():\n",
    "    for i in range(1,6):\n",
    "        print(i)\n",
    "        time.sleep(1)\n",
    "        \n",
    "def print_letters():\n",
    "    for letter in ['a','b','c','d','e']:\n",
    "        print(letter)\n",
    "        time.sleep(1)\n",
    "\n",
    "print_numbers()\n",
    "print_letters()\n",
    "\n",
    "print('Done')"
   ]
  },
  {
   "cell_type": "code",
   "execution_count": 10,
   "id": "a1cf2c27",
   "metadata": {},
   "outputs": [
    {
     "name": "stdout",
     "output_type": "stream",
     "text": [
      "1a\n",
      "\n",
      "2b\n",
      "\n",
      "c\n",
      "3\n",
      "4d\n",
      "\n",
      "e5\n",
      "\n",
      "Done\n"
     ]
    }
   ],
   "source": [
    "#using thread \n",
    "import threading \n",
    "import time\n",
    "\n",
    "def print_numbers():\n",
    "    for i in range(1,6):\n",
    "        print(i)\n",
    "        time.sleep(1)\n",
    "        \n",
    "def print_letters():\n",
    "    for letter in ['a','b','c','d','e']:\n",
    "        print(letter)\n",
    "        time.sleep(1)\n",
    "\n",
    "t1 = threading.Thread(target=print_numbers)\n",
    "t2 = threading.Thread(target=print_letters)\n",
    "\n",
    "# 可以同时run three codes: \n",
    "#1. execution line process (python code)\n",
    "#2. t1: print 1 2 3 4 5 \n",
    "#3. t2: print a b c d e\n",
    "\n",
    "#start the threads\n",
    "t1.start()\n",
    "t2.start()\n",
    "\n",
    "#wait for the threads，back to process\n",
    "t1.join()\n",
    "t2.join()\n",
    "\n",
    "print('Done')\n",
    "#注意：这里的顺序是random的(两个thread同时进行但是产生的顺序是random的)"
   ]
  },
  {
   "cell_type": "markdown",
   "id": "0646ed0d",
   "metadata": {},
   "source": [
    "## Example\n",
    "\n",
    "You have 2 threads:\n",
    "\n",
    "one will add 1 dollar to the balance 10,000,000 times\n",
    "one will subtract 1 dollar from the balance 10,000,000 times\n",
    " \n",
    "\n",
    "Display the value of balance\n",
    " \n",
    "\n",
    "Remember to create a thread, you need to use:\n",
    "\n",
    "import threading\n",
    "\n",
    "theading.Thread(target=reference_to_a_function)"
   ]
  },
  {
   "cell_type": "code",
   "execution_count": 30,
   "id": "49d5412d",
   "metadata": {},
   "outputs": [
    {
     "name": "stdout",
     "output_type": "stream",
     "text": [
      "1\n"
     ]
    }
   ],
   "source": [
    "import threading \n",
    "\n",
    "#为了让先run的那个标记上flag，让另一个等到第一个execute完再run第二个\n",
    "money_flag = threading.Lock() \n",
    "balance = 0\n",
    "nb_transaction = 1000000000\n",
    "\n",
    "def transaction(nb_transaction,n):\n",
    "    global balance\n",
    "    for _ in range(n):\n",
    "        money_flag.acquire()    #create flag\n",
    "        balance += n  ## mutual execution\n",
    "        money_flag.release()    #remove flag\n",
    "\n",
    "        \n",
    "t1= threading.Thread(target=transaction, \n",
    "                     args=(nb_transaction,1,))  #不能用transaction(-1)like that, 因为会产生default\n",
    "t2= threading.Thread(target=transaction, \n",
    "                     args=(nb_transaction,-1,)) #create tuple\n",
    "\n",
    "t1.start()\n",
    "t2.start()\n",
    "\n",
    "#join here: wait t1 and t2 to execute (这样就不会乱，balance永远是0)\n",
    "t1.join()\n",
    "t2.join()\n",
    "\n",
    "print(balance)"
   ]
  },
  {
   "cell_type": "markdown",
   "id": "5a7e9b50",
   "metadata": {},
   "source": [
    "## Example: \n",
    "write a sequential dotproduct and a  threaded dotproduct\n",
    "Calculate the execution time for both of them \n",
    "\n",
    "\n",
    "(为了让execution time quicker, divide a[i]*b[i] into two parts, t1 executing the first and t2 executing the second then compare the execution time with and without threading)"
   ]
  },
  {
   "cell_type": "code",
   "execution_count": 34,
   "id": "d1f00cd9",
   "metadata": {},
   "outputs": [],
   "source": [
    "import datetime \n",
    "from threading import Thread, Lock\n",
    "import numpy as np\n",
    "\n",
    "size =  10000\n",
    "a = [1]*size\n",
    "b = [1]*size\n",
    "lock = threading.Lock()\n",
    "\n",
    "def dot(a, b, size):\n",
    "    return sum(a[i]*b[i] for i in range(size))\n",
    "\n",
    "\n",
    "global_sum = 0\n",
    "def dot_product(a,b,size):\n",
    "    global global_sum\n",
    "    local_sum = 0\n",
    "    for i in range(size):\n",
    "        local_sum += a[i]*b[i]\n",
    "    lock.acquire()\n",
    "    global_sum += local_sum\n",
    "    lock.release()\n",
    "\n",
    "\n",
    "t1 = threading.Thread(target=par_dot, args=(a,b,0,size//2,))\n",
    "t2 = threading.Thread(target=par_dot, args=(a,b,size//2,size,))\n",
    "\n",
    "t1.start()\n",
    "t2.start()\n",
    "t1.join()\n",
    "t2.join()\n",
    "print()\n"
   ]
  },
  {
   "cell_type": "markdown",
   "id": "aafe4423",
   "metadata": {},
   "source": [
    "# Thread Safety\n",
    "- GIL (Global interpreter Lock)\n",
    "- multiprocessing"
   ]
  },
  {
   "cell_type": "markdown",
   "id": "cf8a963f",
   "metadata": {},
   "source": [
    "# Dask \n",
    "就是因为pandas有时候如果row特别多会run不出来，dask可以run出来\n",
    "- dask is a flexible parallel computing library in Python that extends the functionality of the Pandas library\n",
    "- allow to work with larger-than-memory datasets by leveraging parallel and distributed computing "
   ]
  },
  {
   "cell_type": "code",
   "execution_count": null,
   "id": "dba7ea1c",
   "metadata": {},
   "outputs": [],
   "source": [
    "import dask.dataframe as dd\n",
    " \n",
    "#Load CSV file into a Dask Dataframe\n",
    "df = dd.read_csv('data.csv')\n",
    "\n",
    "#filter the dataframe and compute the mean\n",
    "filtered_df = df[df['column_name']>50]\n",
    "mean_value = filtered_df['column_name'].mean()\n",
    "\n",
    "def process_row(row):\n",
    "    result = row['column_name'] *2\n",
    "    return result"
   ]
  },
  {
   "cell_type": "markdown",
   "id": "667ff480",
   "metadata": {},
   "source": []
  }
 ],
 "metadata": {
  "kernelspec": {
   "display_name": "Python 3 (ipykernel)",
   "language": "python",
   "name": "python3"
  },
  "language_info": {
   "codemirror_mode": {
    "name": "ipython",
    "version": 3
   },
   "file_extension": ".py",
   "mimetype": "text/x-python",
   "name": "python",
   "nbconvert_exporter": "python",
   "pygments_lexer": "ipython3",
   "version": "3.8.8"
  }
 },
 "nbformat": 4,
 "nbformat_minor": 5
}
