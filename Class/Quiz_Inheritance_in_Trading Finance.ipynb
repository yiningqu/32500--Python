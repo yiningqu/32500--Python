{
 "cells": [
  {
   "cell_type": "code",
   "execution_count": 2,
   "id": "69bd1473",
   "metadata": {},
   "outputs": [],
   "source": [
    "class FinancialInstrument:\n",
    "    def __init__(self,symbol,price):\n",
    "        self.symbol = symbol\n",
    "        self.price = price\n",
    "    \n",
    "    def get_symbol(self):\n",
    "        return self.symbol\n",
    "    \n",
    "    def get_price(self):\n",
    "        return self.price\n",
    "    \n",
    "\n",
    "class Stock(FinancialInstrument):\n",
    "    def __init__(self,symbol,price,dividend_yield):\n",
    "        super().__init__(symbol,price)\n",
    "        self.dividend_yield = dividend_yield\n",
    "        \n",
    "    def calculate_dividend(self):\n",
    "        return self.dividend_yield * self.price\n",
    "    \n",
    "    def __repr__(self):\n",
    "        return f'({self.symbol},{self.price},{self.dividend_yield})'\n",
    "    \n",
    "class Bond(FinancialInstrument):\n",
    "    def __init__(self,symbol,price,coupon_rate,face_value):\n",
    "        super().__init__(symbol,price)\n",
    "        self.coupon_rate = coupon_rate\n",
    "        self.face_value = face_value\n",
    "    \n",
    "    def calculate_coupon_payment(self):\n",
    "        coupon_payment = self.coupon_rate * self.face_value\n",
    "        return coupon_payment\n",
    "    \n",
    "    def __repr__(self):\n",
    "        return f'({self.symbol},{self.price},{self.coupon_rate},{self.face_value})'"
   ]
  },
  {
   "cell_type": "code",
   "execution_count": 3,
   "id": "1ab4d6ea",
   "metadata": {},
   "outputs": [
    {
     "name": "stdout",
     "output_type": "stream",
     "text": [
      "Stock Symbol: AAPL\n",
      "Stock Price: 150.0\n",
      "(AAPL,150.0,0.02)\n",
      "Bond Symbol: XYZ Bond\n",
      "Bond Price: 1000.0\n",
      "(XYZ Bond,1000.0,0.05,1000.0)\n",
      "Stock Dividend: $3.0\n",
      "Bond Coupon Payment: $50.0\n"
     ]
    }
   ],
   "source": [
    "# Creating instances of financial instruments\n",
    "stock1 = Stock(\"AAPL\", 150.0, 0.02)\n",
    "bond1 = Bond(\"XYZ Bond\", 1000.0, 0.05, 1000.0)\n",
    "\n",
    "# Retrieving and printing symbols, prices, and string representations\n",
    "print(f\"Stock Symbol: {stock1.get_symbol()}\")\n",
    "print(f\"Stock Price: {stock1.get_price()}\")\n",
    "print(repr(stock1))\n",
    "\n",
    "print(f\"Bond Symbol: {bond1.get_symbol()}\")\n",
    "print(f\"Bond Price: {bond1.get_price()}\")\n",
    "print(repr(bond1))\n",
    "\n",
    "# Calculating and printing dividends and coupon payments\n",
    "print(f\"Stock Dividend: ${stock1.calculate_dividend()}\")\n",
    "print(f\"Bond Coupon Payment: ${bond1.calculate_coupon_payment()}\")"
   ]
  },
  {
   "cell_type": "code",
   "execution_count": null,
   "id": "e22a0ec5",
   "metadata": {},
   "outputs": [],
   "source": []
  }
 ],
 "metadata": {
  "kernelspec": {
   "display_name": "Python 3 (ipykernel)",
   "language": "python",
   "name": "python3"
  },
  "language_info": {
   "codemirror_mode": {
    "name": "ipython",
    "version": 3
   },
   "file_extension": ".py",
   "mimetype": "text/x-python",
   "name": "python",
   "nbconvert_exporter": "python",
   "pygments_lexer": "ipython3",
   "version": "3.8.8"
  }
 },
 "nbformat": 4,
 "nbformat_minor": 5
}
