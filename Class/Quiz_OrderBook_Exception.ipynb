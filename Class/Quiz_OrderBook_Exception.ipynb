{
 "cells": [
  {
   "cell_type": "code",
   "execution_count": null,
   "id": "60a97f79",
   "metadata": {},
   "outputs": [],
   "source": [
    "import sys, os\n",
    "\n",
    "def LINE():\n",
    "    return sys._getframe(1).f_lineno\n",
    "\n",
    "class CrossBookError(Exception):\n",
    "    def __init__(self):\n",
    "        line_number = LINE()\n",
    "        super().__init__('CrossBookError, line =' + str(line_number))\n",
    "\n",
    "\n",
    "\n",
    "\n",
    "\n",
    "class OrderBook:\n",
    "    def __init__(self):\n",
    "        self.buys = []\n",
    "        self.sells = []\n",
    "        self.order_id_counter = 1\n",
    "        \n",
    "    def insert_order(self, o):\n",
    "        o['order_id'] = self.order_id_counter\n",
    "        self.order_id_counter += 1\n",
    "        if o['side'] == 'B':\n",
    "            self.buys.append(o)\n",
    "            self.buys = sorted(self.buys, key = lambda x: x['price'], reverse = True)\n",
    "        else:\n",
    "            self.sells.append(o)\n",
    "            self.sells = sorted(self.sells, key = lambda x: x['price'])\n",
    "        \n",
    "        if self.buys[0]['price'] > self.sells[0]['price']:\n",
    "            raise CrossBookError()\n",
    "\n",
    "    def modify_order(self, o):\n",
    "        for order in self.buys + self.sells:\n",
    "            if order['order_id'] == order_id:\n",
    "                if new_quantity <= order['quantity']:\n",
    "                    order['quantity'] == new_quantity\n",
    "                    return True\n",
    "                else:\n",
    "                    return False\n",
    "        # result = list()\n",
    "        # for i in range(1, len(ob1.buys)+1):\n",
    "        #     result += [dict(item, **{'id': i}) for item in ob1.buys]\n",
    "        # return \n",
    "    \n",
    "    def delete_order(self, o):\n",
    "        for order in self.buys + self.sells:\n",
    "            if order['order_id'] == order_id:\n",
    "                if order in self.buys:\n",
    "                    self.buys.remove(order)\n",
    "                elif order in self.sells:\n",
    "                    self.sells.remove(order)\n",
    "                return True\n",
    "            return False"
   ]
  }
 ],
 "metadata": {
  "kernelspec": {
   "display_name": "Python 3 (ipykernel)",
   "language": "python",
   "name": "python3"
  },
  "language_info": {
   "codemirror_mode": {
    "name": "ipython",
    "version": 3
   },
   "file_extension": ".py",
   "mimetype": "text/x-python",
   "name": "python",
   "nbconvert_exporter": "python",
   "pygments_lexer": "ipython3",
   "version": "3.8.8"
  }
 },
 "nbformat": 4,
 "nbformat_minor": 5
}
