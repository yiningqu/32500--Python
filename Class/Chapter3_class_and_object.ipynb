{
 "cells": [
  {
   "cell_type": "markdown",
   "id": "4b44b255",
   "metadata": {},
   "source": [
    "# example: \n",
    "\n",
    "Give the code to create the class order with the following attributes:\n",
    "\n",
    "- price\n",
    "- quantity\n",
    "- side\n",
    "\n",
    "Create a function which will check if the quantity is negative. You will displaye positive / negative on the screen. "
   ]
  },
  {
   "cell_type": "code",
   "execution_count": 65,
   "id": "439987fa",
   "metadata": {},
   "outputs": [],
   "source": [
    "class Order:\n",
    "    def __init__(self,price,quantity,side):\n",
    "        self.price = price\n",
    "        self.quantity = quantity\n",
    "        self.side = side\n",
    "    \n",
    "    #千万不要忘记self.,不然的话value是属于function里面的，而不是属于class的\n",
    "    def check_negative_quantity(self):\n",
    "        if self.quantity > 0:\n",
    "            print(f'the quantity {self.quantity} is positive')\n",
    "        elif self.quantity < 0:\n",
    "            print(f'the quantity {self.quantity} is negative')\n",
    "        else:\n",
    "            print('the quantity is 0')\n",
    "    \n",
    "    def set_quantity(self,qty):\n",
    "        if qty < 0:\n",
    "            print(f'the quantity {qty} is negative')\n",
    "            return\n",
    "        self.quantity = qty\n",
    "    \n",
    "    def __add__(self,other):\n",
    "        newq = self.quantity + other.quantity\n",
    "        newp = self.price + other.price\n",
    "        return (newq,newp,self.side)"
   ]
  },
  {
   "cell_type": "code",
   "execution_count": 73,
   "id": "680ece97",
   "metadata": {},
   "outputs": [
    {
     "data": {
      "text/plain": [
       "<__main__.Order at 0x7fef8efba2e0>"
      ]
     },
     "execution_count": 73,
     "metadata": {},
     "output_type": "execute_result"
    }
   ],
   "source": [
    "#have Order in memory, and assign o1 to the Order\n",
    "o1 = Order(10,100,'buy')\n",
    "o1"
   ]
  },
  {
   "cell_type": "code",
   "execution_count": 67,
   "id": "abdaa06b",
   "metadata": {},
   "outputs": [
    {
     "name": "stdout",
     "output_type": "stream",
     "text": [
      "the quantity 100 is positive\n"
     ]
    }
   ],
   "source": [
    "o1.check_negative_quantity()"
   ]
  },
  {
   "cell_type": "code",
   "execution_count": 68,
   "id": "ba094914",
   "metadata": {},
   "outputs": [
    {
     "data": {
      "text/plain": [
       "100"
      ]
     },
     "execution_count": 68,
     "metadata": {},
     "output_type": "execute_result"
    }
   ],
   "source": [
    "o1.quantity"
   ]
  },
  {
   "cell_type": "code",
   "execution_count": 69,
   "id": "fc5076e1",
   "metadata": {},
   "outputs": [
    {
     "name": "stdout",
     "output_type": "stream",
     "text": [
      "the quantity -10 is negative\n"
     ]
    }
   ],
   "source": [
    "o1.set_quantity(-10)"
   ]
  },
  {
   "cell_type": "code",
   "execution_count": 70,
   "id": "69c24cf4",
   "metadata": {},
   "outputs": [
    {
     "data": {
      "text/plain": [
       "10"
      ]
     },
     "execution_count": 70,
     "metadata": {},
     "output_type": "execute_result"
    }
   ],
   "source": [
    "o1.set_quantity(10)\n",
    "o1.quantity"
   ]
  },
  {
   "cell_type": "code",
   "execution_count": 74,
   "id": "ea2c0bd6",
   "metadata": {},
   "outputs": [],
   "source": [
    "o1 = Order(10,100,'buy')\n",
    "o2 = Order(10,200,'buy')"
   ]
  },
  {
   "cell_type": "code",
   "execution_count": 82,
   "id": "043e8441",
   "metadata": {},
   "outputs": [
    {
     "data": {
      "text/plain": [
       "(300, 20, 'buy')"
      ]
     },
     "execution_count": 82,
     "metadata": {},
     "output_type": "execute_result"
    }
   ],
   "source": [
    "o3 = o1 + o2\n",
    "o3"
   ]
  },
  {
   "cell_type": "code",
   "execution_count": null,
   "id": "f49d4b69",
   "metadata": {},
   "outputs": [],
   "source": []
  },
  {
   "cell_type": "markdown",
   "id": "cb9699a6",
   "metadata": {},
   "source": [
    "## Create a class called OrderBook that have functions insert, modify, delete, and two attributes buy and sell"
   ]
  },
  {
   "cell_type": "code",
   "execution_count": 3,
   "id": "9aa54e90",
   "metadata": {},
   "outputs": [],
   "source": [
    "class OrderBook:\n",
    "    def __init__(self):\n",
    "        self.buys = []\n",
    "        self.sells = []\n",
    "    def insert_order(self,o):\n",
    "        o['id'] = len(self.buys) + len(self.sells) + 1\n",
    "        if o['side'] == 'B':\n",
    "            self.buys.append(o)\n",
    "            self.buys = sorted(self.buys, key=lambda item: item['price'], reverse=True)\n",
    "        elif o['side'] == 'S':\n",
    "            self.sells.append(o)\n",
    "            self.sells = sorted(self.sells, key=lambda item: item['price'], reverse=False)\n",
    "        else:\n",
    "            print('Wrong Input')\n",
    "\n",
    "            \n",
    "    def modify_order(self,order_id,qty):\n",
    "        for order in self.buys + self.sells:\n",
    "            if order['id'] == order_id:\n",
    "                if qty <= order['quantity']:\n",
    "                    order['quantity'] = qty\n",
    "\n",
    "\n",
    "    def delete_order(self,o):\n",
    "        pass"
   ]
  },
  {
   "cell_type": "code",
   "execution_count": 4,
   "id": "e1511b40",
   "metadata": {},
   "outputs": [
    {
     "name": "stdout",
     "output_type": "stream",
     "text": [
      "[{'price': 11, 'quantity': 50, 'side': 'B', 'id': 2}, {'price': 10, 'quantity': 89, 'side': 'B', 'id': 1}, {'price': 9, 'quantity': 70, 'side': 'B', 'id': 3}]\n",
      "[{'price': 14, 'quantity': 50, 'side': 'S', 'id': 5}, {'price': 15, 'quantity': 100, 'side': 'S', 'id': 4}, {'price': 16, 'quantity': 70, 'side': 'S', 'id': 6}]\n"
     ]
    }
   ],
   "source": [
    "ob1 = OrderBook()\n",
    "o1 = {'price' : 10, 'quantity' : 100, 'side':'B'}   #side B means Buy\n",
    "o2 = {'price' : 11, 'quantity' : 50, 'side':'B'}\n",
    "o3 = {'price' : 9, 'quantity' : 70, 'side':'B'}\n",
    "o4 = {'price' : 15, 'quantity' : 100, 'side':'S'}  \n",
    "o5 = {'price' : 14, 'quantity' : 50, 'side':'S'}\n",
    "o6 = {'price' : 16, 'quantity' : 70, 'side':'S'}\n",
    "\n",
    "ob1.insert_order(o1)\n",
    "ob1.insert_order(o2)\n",
    "ob1.insert_order(o3)\n",
    "ob1.insert_order(o4)\n",
    "ob1.insert_order(o5)\n",
    "ob1.insert_order(o6)\n",
    "ob1.modify_order(1,89)\n",
    "print(ob1.buys)\n",
    "print(ob1.sells)"
   ]
  },
  {
   "cell_type": "code",
   "execution_count": 62,
   "id": "36c9d130",
   "metadata": {},
   "outputs": [
    {
     "data": {
      "text/plain": [
       "['__class__',\n",
       " '__contains__',\n",
       " '__delattr__',\n",
       " '__delitem__',\n",
       " '__dir__',\n",
       " '__doc__',\n",
       " '__eq__',\n",
       " '__format__',\n",
       " '__ge__',\n",
       " '__getattribute__',\n",
       " '__getitem__',\n",
       " '__gt__',\n",
       " '__hash__',\n",
       " '__init__',\n",
       " '__init_subclass__',\n",
       " '__iter__',\n",
       " '__le__',\n",
       " '__len__',\n",
       " '__lt__',\n",
       " '__ne__',\n",
       " '__new__',\n",
       " '__reduce__',\n",
       " '__reduce_ex__',\n",
       " '__repr__',\n",
       " '__reversed__',\n",
       " '__setattr__',\n",
       " '__setitem__',\n",
       " '__sizeof__',\n",
       " '__str__',\n",
       " '__subclasshook__',\n",
       " 'clear',\n",
       " 'copy',\n",
       " 'fromkeys',\n",
       " 'get',\n",
       " 'items',\n",
       " 'keys',\n",
       " 'pop',\n",
       " 'popitem',\n",
       " 'setdefault',\n",
       " 'update',\n",
       " 'values']"
      ]
     },
     "execution_count": 62,
     "metadata": {},
     "output_type": "execute_result"
    }
   ],
   "source": [
    "dir(o1)\n",
    "#可以modify这些function"
   ]
  },
  {
   "cell_type": "code",
   "execution_count": null,
   "id": "ceb1be68",
   "metadata": {},
   "outputs": [],
   "source": [
    "o1 + o2 #o1.__add__(o2)"
   ]
  },
  {
   "cell_type": "code",
   "execution_count": null,
   "id": "885b2a8d",
   "metadata": {},
   "outputs": [],
   "source": []
  },
  {
   "cell_type": "code",
   "execution_count": null,
   "id": "591e2643",
   "metadata": {},
   "outputs": [],
   "source": []
  },
  {
   "cell_type": "code",
   "execution_count": null,
   "id": "c32c4c8e",
   "metadata": {},
   "outputs": [],
   "source": []
  },
  {
   "cell_type": "code",
   "execution_count": 83,
   "id": "37950d42",
   "metadata": {},
   "outputs": [],
   "source": [
    "class PrivateOrder:\n",
    "    def __init__(self,price,quantity,side):\n",
    "        self.__price = price\n",
    "        self.__quantity = quantity\n",
    "        self.__side = side"
   ]
  },
  {
   "cell_type": "code",
   "execution_count": 84,
   "id": "182cf819",
   "metadata": {},
   "outputs": [
    {
     "ename": "AttributeError",
     "evalue": "'PrivateOrder' object has no attribute '__price'",
     "output_type": "error",
     "traceback": [
      "\u001b[0;31m---------------------------------------------------------------------------\u001b[0m",
      "\u001b[0;31mAttributeError\u001b[0m                            Traceback (most recent call last)",
      "\u001b[0;32m<ipython-input-84-10352257a9f7>\u001b[0m in \u001b[0;36m<module>\u001b[0;34m\u001b[0m\n\u001b[1;32m      1\u001b[0m \u001b[0mo1\u001b[0m \u001b[0;34m=\u001b[0m \u001b[0mPrivateOrder\u001b[0m\u001b[0;34m(\u001b[0m\u001b[0;36m10\u001b[0m\u001b[0;34m,\u001b[0m\u001b[0;36m100\u001b[0m\u001b[0;34m,\u001b[0m\u001b[0;34m'B'\u001b[0m\u001b[0;34m)\u001b[0m\u001b[0;34m\u001b[0m\u001b[0;34m\u001b[0m\u001b[0m\n\u001b[0;32m----> 2\u001b[0;31m \u001b[0mo1\u001b[0m\u001b[0;34m.\u001b[0m\u001b[0m__price\u001b[0m\u001b[0;34m\u001b[0m\u001b[0;34m\u001b[0m\u001b[0m\n\u001b[0m",
      "\u001b[0;31mAttributeError\u001b[0m: 'PrivateOrder' object has no attribute '__price'"
     ]
    }
   ],
   "source": [
    "#因为是private所以不能access it outside the class\n",
    "o1 = PrivateOrder(10,100,'B')\n",
    "o1.__price"
   ]
  },
  {
   "cell_type": "code",
   "execution_count": 85,
   "id": "0be08644",
   "metadata": {},
   "outputs": [
    {
     "data": {
      "text/plain": [
       "['_PrivateOrder__price',\n",
       " '_PrivateOrder__quantity',\n",
       " '_PrivateOrder__side',\n",
       " '__class__',\n",
       " '__delattr__',\n",
       " '__dict__',\n",
       " '__dir__',\n",
       " '__doc__',\n",
       " '__eq__',\n",
       " '__format__',\n",
       " '__ge__',\n",
       " '__getattribute__',\n",
       " '__gt__',\n",
       " '__hash__',\n",
       " '__init__',\n",
       " '__init_subclass__',\n",
       " '__le__',\n",
       " '__lt__',\n",
       " '__module__',\n",
       " '__ne__',\n",
       " '__new__',\n",
       " '__reduce__',\n",
       " '__reduce_ex__',\n",
       " '__repr__',\n",
       " '__setattr__',\n",
       " '__sizeof__',\n",
       " '__str__',\n",
       " '__subclasshook__',\n",
       " '__weakref__']"
      ]
     },
     "execution_count": 85,
     "metadata": {},
     "output_type": "execute_result"
    }
   ],
   "source": [
    "dir(o1)"
   ]
  },
  {
   "cell_type": "code",
   "execution_count": null,
   "id": "477eaaab",
   "metadata": {},
   "outputs": [],
   "source": []
  },
  {
   "cell_type": "markdown",
   "id": "a4e271a2",
   "metadata": {},
   "source": [
    "## Inheritance"
   ]
  },
  {
   "cell_type": "code",
   "execution_count": 104,
   "id": "5e23f1af",
   "metadata": {},
   "outputs": [],
   "source": [
    "class Order:\n",
    "    def __init__(self,price,quantity,side):\n",
    "        self.price = price\n",
    "        self.quantity = quantity\n",
    "        self.side = side\n",
    "\n",
    "class GTCOrder(Order):\n",
    "    def __init__(self,price,quantity,side,method):\n",
    "        super().__init__(price,quantity,side)\n",
    "        self.method = method"
   ]
  },
  {
   "cell_type": "code",
   "execution_count": 106,
   "id": "6266a7a0",
   "metadata": {},
   "outputs": [
    {
     "data": {
      "text/plain": [
       "<__main__.GTCOrder at 0x7fef8f08ca60>"
      ]
     },
     "execution_count": 106,
     "metadata": {},
     "output_type": "execute_result"
    }
   ],
   "source": [
    "gtc1 = GTCOrder(10,100,'B','Day')\n",
    "gtc1"
   ]
  },
  {
   "cell_type": "code",
   "execution_count": 107,
   "id": "31667aee",
   "metadata": {},
   "outputs": [
    {
     "data": {
      "text/plain": [
       "100"
      ]
     },
     "execution_count": 107,
     "metadata": {},
     "output_type": "execute_result"
    }
   ],
   "source": [
    "gtc1.quantity"
   ]
  },
  {
   "cell_type": "code",
   "execution_count": null,
   "id": "34277dde",
   "metadata": {},
   "outputs": [],
   "source": []
  }
 ],
 "metadata": {
  "kernelspec": {
   "display_name": "Python 3 (ipykernel)",
   "language": "python",
   "name": "python3"
  },
  "language_info": {
   "codemirror_mode": {
    "name": "ipython",
    "version": 3
   },
   "file_extension": ".py",
   "mimetype": "text/x-python",
   "name": "python",
   "nbconvert_exporter": "python",
   "pygments_lexer": "ipython3",
   "version": "3.8.8"
  }
 },
 "nbformat": 4,
 "nbformat_minor": 5
}
