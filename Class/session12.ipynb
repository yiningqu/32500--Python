{
 "cells": [
  {
   "cell_type": "code",
   "execution_count": 7,
   "id": "3f859bf6",
   "metadata": {},
   "outputs": [],
   "source": [
    "def square(x):\n",
    "    return x**2;\n",
    "\n",
    "def add(x,y):\n",
    "    return x+y\n",
    "\n",
    "class OrderBook:\n",
    "    def __init__(self):\n",
    "        self.bids = []\n",
    "        self.asks = []\n",
    "    def add_order(self,o):\n",
    "        if o['side']=='bid':\n",
    "            self.bids.append(o)\n",
    "            self.bids.sort(key=lambda x:x['price'],reverse=False)\n",
    "        else:\n",
    "            self.asks.append(o)\n",
    "            self.bids.sort(key=lambda x: x['price'], reverse=True)\n",
    "            \n",
    "    def amend_order(self, order):\n",
    "        if order['side'] == 'bid':\n",
    "            for bid in self.bids:\n",
    "                if bid['id'] == order['id']:\n",
    "                    bid['price'] == order['price']\n",
    "                    bid['size'] == order['size']\n",
    "                    break\n",
    "        else:\n",
    "            for ask in self.asks:\n",
    "                if ask['id'] == order['id']:\n",
    "                    ask['price'] == order['price']\n",
    "                    ask['size'] == order['size']\n",
    "                    break\n",
    "            "
   ]
  },
  {
   "cell_type": "code",
   "execution_count": 8,
   "id": "96649418",
   "metadata": {},
   "outputs": [
    {
     "name": "stderr",
     "output_type": "stream",
     "text": [
      "E\n",
      "======================================================================\n",
      "ERROR: /Users/yiningqu/Library/Jupyter/runtime/kernel-db3346c7-5101-48ff-a6c3-51f5743ee237 (unittest.loader._FailedTest)\n",
      "----------------------------------------------------------------------\n",
      "AttributeError: module '__main__' has no attribute '/Users/yiningqu/Library/Jupyter/runtime/kernel-db3346c7-5101-48ff-a6c3-51f5743ee237'\n",
      "\n",
      "----------------------------------------------------------------------\n",
      "Ran 1 test in 0.001s\n",
      "\n",
      "FAILED (errors=1)\n"
     ]
    },
    {
     "ename": "SystemExit",
     "evalue": "True",
     "output_type": "error",
     "traceback": [
      "An exception has occurred, use %tb to see the full traceback.\n",
      "\u001b[0;31mSystemExit\u001b[0m\u001b[0;31m:\u001b[0m True\n"
     ]
    },
    {
     "name": "stderr",
     "output_type": "stream",
     "text": [
      "/opt/anaconda3/lib/python3.8/site-packages/IPython/core/interactiveshell.py:3516: UserWarning: To exit: use 'exit', 'quit', or Ctrl-D.\n",
      "  warn(\"To exit: use 'exit', 'quit', or Ctrl-D.\", stacklevel=1)\n"
     ]
    }
   ],
   "source": [
    "import unittest\n",
    "# from mymath import square, add, OrderBook\n",
    "\n",
    "class TestMathLibrary(unittest.TestCase):\n",
    "\n",
    "    def test_square(self):\n",
    "        self.assertEqual(square(4), 16)\n",
    "        self.assertEqual(square(-4), 16)\n",
    "        self.assertEqual(square(0), 0)\n",
    "\n",
    "    def test_add(self):\n",
    "        self.assertEqual(add(4,6), 10)\n",
    "        self.assertEqual(add(-4,-4), -8)\n",
    "        self.assertEqual(add(0,0),0)\n",
    "\n",
    "\n",
    "    def test_order_book(self):\n",
    "        ob = OrderBook()\n",
    "        ob.add_order({'side' : 'bid', 'price' : 10})\n",
    "        ob.add_order({'side': 'bid', 'price': 11})\n",
    "        ob.add_order({'side': 'bid', 'price': 9})\n",
    "        self.assertEqual(ob.bids,[{'side' : 'bid', 'price' : 9},\n",
    "         {'side' : 'bid', 'price' : 10},\n",
    "         {'side' : 'bid', 'price' : 11}])\n",
    "        self.assertEqual(ob.asks,[])\n",
    "    \n",
    "    def test_ammend(self):\n",
    "        ob = OrderBook()\n",
    "        ob.add_order({'id':1, 'side':'buy','price':100,'size':1})\n",
    "        ob.add_order({'id':2, 'side':'buy','price':101,'size':1})\n",
    "        ob.add_order({'id':3, 'side':'sell','price':99,'size':1})\n",
    "        ob.amend_order({'id':1, 'side':'buy','price':100,'size':2})\n",
    "        self.assertEqual(ob.bids[0]['size'],2)\n",
    "        ob.amend_order({'id':3, 'side':'sell','price':99,'size':2})\n",
    "        self.assertEqual(ob.asks[0]['size'],2)\n",
    "        ob.ammend_order({'id':2, 'side':'buy','price':102,'size':1})\n",
    "        self.assertEqual(ob.asks[0]['price'],102)\n",
    "\n",
    "if __name__ == '__main__':\n",
    "    unittest.main()"
   ]
  },
  {
   "cell_type": "code",
   "execution_count": null,
   "id": "0159decc",
   "metadata": {},
   "outputs": [],
   "source": []
  }
 ],
 "metadata": {
  "kernelspec": {
   "display_name": "Python 3 (ipykernel)",
   "language": "python",
   "name": "python3"
  },
  "language_info": {
   "codemirror_mode": {
    "name": "ipython",
    "version": 3
   },
   "file_extension": ".py",
   "mimetype": "text/x-python",
   "name": "python",
   "nbconvert_exporter": "python",
   "pygments_lexer": "ipython3",
   "version": "3.8.8"
  }
 },
 "nbformat": 4,
 "nbformat_minor": 5
}
