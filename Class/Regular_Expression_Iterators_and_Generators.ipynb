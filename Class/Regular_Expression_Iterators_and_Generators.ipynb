{
 "cells": [
  {
   "cell_type": "markdown",
   "id": "889923fd",
   "metadata": {},
   "source": [
    "# Regular Expression\n",
    "- patterns for matching and manipulating strings\n",
    "- used for searching\n",
    "\n",
    "## re MODULE\n",
    "- re.search(), re.match(), re.findall()\n",
    "- flags for case-insensitive matching"
   ]
  },
  {
   "cell_type": "code",
   "execution_count": 1,
   "id": "b7f6b408",
   "metadata": {},
   "outputs": [
    {
     "name": "stdout",
     "output_type": "stream",
     "text": [
      "Python\n"
     ]
    }
   ],
   "source": [
    "import re \n",
    "\n",
    "pattern = r\"python\"\n",
    "text = \"Python is awesome!\"\n",
    "result = re.search(pattern,text,re.IGNORECASE)\n",
    "print(result.group())"
   ]
  },
  {
   "cell_type": "markdown",
   "id": "c45be345",
   "metadata": {},
   "source": [
    "## Character Class\n",
    "- define a set of characters to match\n",
    "- examples: [0,9] (digits), [a-z,A-Z]"
   ]
  },
  {
   "cell_type": "code",
   "execution_count": 2,
   "id": "452c4361",
   "metadata": {},
   "outputs": [
    {
     "name": "stdout",
     "output_type": "stream",
     "text": [
      "1122347839242 The price is $100\n"
     ]
    }
   ],
   "source": [
    "import re\n",
    "\n",
    "pattern = r\"[0-9a-zA-Z $]+[0-9]*\"   \n",
    "# +: looking for the next match string within a-z until it does not match  output: he\n",
    "# *: looking for the match string within a-z until it does not match  output: The\n",
    "text = \"1122347839242 The price is $100.\"\n",
    "result = re.search(pattern,text)\n",
    "print(result.group())"
   ]
  },
  {
   "cell_type": "markdown",
   "id": "9b1750c8",
   "metadata": {},
   "source": [
    "## Quantifiers\n",
    "- specify the number of occurrences 出现了这种pattern几次"
   ]
  },
  {
   "cell_type": "code",
   "execution_count": 25,
   "id": "88190256",
   "metadata": {},
   "outputs": [
    {
     "name": "stdout",
     "output_type": "stream",
     "text": [
      "123-45-6789\n"
     ]
    }
   ],
   "source": [
    "import re \n",
    "pattern = r\"\\d{3}-\\d{2}-\\d{4}\"\n",
    "text = \"my SSN is  123-45-6789 and yours is 234-45-6789\"\n",
    "result = re.search(pattern,text)\n",
    "print(result.group())"
   ]
  },
  {
   "cell_type": "markdown",
   "id": "8e168325",
   "metadata": {},
   "source": [
    "## Anchors\n",
    "- ^: start of the string"
   ]
  },
  {
   "cell_type": "markdown",
   "id": "3ec49428",
   "metadata": {},
   "source": [
    "### Example: Code the function to validate email.\n",
    "\n",
    "When you use this function on a string, you will return true if this is a valid email, you will return false otherwise."
   ]
  },
  {
   "cell_type": "code",
   "execution_count": 75,
   "id": "093faa04",
   "metadata": {},
   "outputs": [
    {
     "name": "stdout",
     "output_type": "stream",
     "text": [
      "yqu43@uchicago.edu\n"
     ]
    }
   ],
   "source": [
    "import re\n",
    "pattern = r'[a-zA-Z0-9]+@[a-z]+\\.(edu|com)$'\n",
    "#  $: Ensures that the matched string should end at this point, with either \"edu\" or \"com\".\n",
    "text = \"yqu43@uchicago.edu\"\n",
    "result = re.search(pattern,text)\n",
    "print(result.group())"
   ]
  },
  {
   "cell_type": "code",
   "execution_count": 71,
   "id": "d195b2e8",
   "metadata": {},
   "outputs": [
    {
     "name": "stdout",
     "output_type": "stream",
     "text": [
      "      Asset Class   Symbol      Expiration\n",
      "0       Commodity    GCF23       June 2023\n",
      "1       Commodity    CLH24     August 2024\n",
      "2       Commodity    ZCU22  September 2022\n",
      "3       Commodity    ZSN23   November 2023\n",
      "4       Commodity    ZWW25    January 2025\n",
      "5       Financial    ESH23      March 2023\n",
      "6       Financial    NQU24       June 2024\n",
      "7       Financial    YMU25  September 2025\n",
      "8       Financial    ZBH26   December 2026\n",
      "9       Financial    ZNU27       June 2027\n",
      "10       Currency    6EH28     August 2028\n",
      "11       Currency    6BU29  September 2029\n",
      "12       Currency    6JU30       June 2030\n",
      "13       Currency    6AU31       July 2031\n",
      "14       Currency    6SH32     August 2032\n",
      "15  Interest Rate    GEU33  September 2033\n",
      "16  Interest Rate    FFM34      March 2034\n",
      "17         Crypto   BTCJ25       June 2025\n",
      "18         Crypto   ETHS26  September 2026\n",
      "19          Index    TFR27       July 2027\n",
      "20          Index   NKDU28    October 2028\n",
      "21          Index  FDAXM29   December 2029\n"
     ]
    }
   ],
   "source": [
    "# import pandas as pd\n",
    "\n",
    "# Create a DataFrame\n",
    "data = {\n",
    "    'Asset Class': ['Commodity', 'Commodity', 'Commodity', 'Commodity', 'Commodity',\n",
    "                    'Financial', 'Financial', 'Financial', 'Financial', 'Financial',\n",
    "                    'Currency', 'Currency', 'Currency', 'Currency', 'Currency',\n",
    "                    'Interest Rate', 'Interest Rate',\n",
    "                    'Crypto', 'Crypto',\n",
    "                    'Index', 'Index', 'Index'],\n",
    "    'Symbol': ['GCF23', 'CLH24', 'ZCU22', 'ZSN23', 'ZWW25',\n",
    "               'ESH23', 'NQU24', 'YMU25', 'ZBH26', 'ZNU27',\n",
    "               '6EH28', '6BU29', '6JU30', '6AU31', '6SH32',\n",
    "               'GEU33', 'FFM34',\n",
    "               'BTCJ25', 'ETHS26',\n",
    "               'TFR27', 'NKDU28', 'FDAXM29'],\n",
    "    'Expiration': ['June 2023', 'August 2024', 'September 2022', 'November 2023', 'January 2025',\n",
    "                   'March 2023', 'June 2024', 'September 2025', 'December 2026', 'June 2027',\n",
    "                   'August 2028', 'September 2029', 'June 2030', 'July 2031', 'August 2032',\n",
    "                   'September 2033', 'March 2034',\n",
    "                   'June 2025', 'September 2026',\n",
    "                   'July 2027', 'October 2028', 'December 2029']\n",
    "}\n",
    "\n",
    "df = pd.DataFrame(data)\n",
    "\n",
    "# Display the DataFrame\n",
    "print(df)"
   ]
  },
  {
   "cell_type": "code",
   "execution_count": 78,
   "id": "62bfebf9",
   "metadata": {},
   "outputs": [
    {
     "data": {
      "text/html": [
       "<div>\n",
       "<style scoped>\n",
       "    .dataframe tbody tr th:only-of-type {\n",
       "        vertical-align: middle;\n",
       "    }\n",
       "\n",
       "    .dataframe tbody tr th {\n",
       "        vertical-align: top;\n",
       "    }\n",
       "\n",
       "    .dataframe thead th {\n",
       "        text-align: right;\n",
       "    }\n",
       "</style>\n",
       "<table border=\"1\" class=\"dataframe\">\n",
       "  <thead>\n",
       "    <tr style=\"text-align: right;\">\n",
       "      <th></th>\n",
       "      <th>Asset Class</th>\n",
       "      <th>Symbol</th>\n",
       "      <th>Expiration</th>\n",
       "      <th>fut_root</th>\n",
       "      <th>month</th>\n",
       "      <th>year</th>\n",
       "    </tr>\n",
       "  </thead>\n",
       "  <tbody>\n",
       "    <tr>\n",
       "      <th>0</th>\n",
       "      <td>Commodity</td>\n",
       "      <td>GCF23</td>\n",
       "      <td>June 2023</td>\n",
       "      <td>GC</td>\n",
       "      <td>F</td>\n",
       "      <td>23</td>\n",
       "    </tr>\n",
       "    <tr>\n",
       "      <th>1</th>\n",
       "      <td>Commodity</td>\n",
       "      <td>CLH24</td>\n",
       "      <td>August 2024</td>\n",
       "      <td>CL</td>\n",
       "      <td>H</td>\n",
       "      <td>24</td>\n",
       "    </tr>\n",
       "    <tr>\n",
       "      <th>2</th>\n",
       "      <td>Commodity</td>\n",
       "      <td>ZCU22</td>\n",
       "      <td>September 2022</td>\n",
       "      <td>ZC</td>\n",
       "      <td>U</td>\n",
       "      <td>22</td>\n",
       "    </tr>\n",
       "    <tr>\n",
       "      <th>3</th>\n",
       "      <td>Commodity</td>\n",
       "      <td>ZSN23</td>\n",
       "      <td>November 2023</td>\n",
       "      <td>ZS</td>\n",
       "      <td>N</td>\n",
       "      <td>23</td>\n",
       "    </tr>\n",
       "    <tr>\n",
       "      <th>4</th>\n",
       "      <td>Commodity</td>\n",
       "      <td>ZWW25</td>\n",
       "      <td>January 2025</td>\n",
       "      <td>ZW</td>\n",
       "      <td>W</td>\n",
       "      <td>25</td>\n",
       "    </tr>\n",
       "    <tr>\n",
       "      <th>5</th>\n",
       "      <td>Financial</td>\n",
       "      <td>ESH23</td>\n",
       "      <td>March 2023</td>\n",
       "      <td>ES</td>\n",
       "      <td>H</td>\n",
       "      <td>23</td>\n",
       "    </tr>\n",
       "    <tr>\n",
       "      <th>6</th>\n",
       "      <td>Financial</td>\n",
       "      <td>NQU24</td>\n",
       "      <td>June 2024</td>\n",
       "      <td>NQ</td>\n",
       "      <td>U</td>\n",
       "      <td>24</td>\n",
       "    </tr>\n",
       "    <tr>\n",
       "      <th>7</th>\n",
       "      <td>Financial</td>\n",
       "      <td>YMU25</td>\n",
       "      <td>September 2025</td>\n",
       "      <td>YM</td>\n",
       "      <td>U</td>\n",
       "      <td>25</td>\n",
       "    </tr>\n",
       "    <tr>\n",
       "      <th>8</th>\n",
       "      <td>Financial</td>\n",
       "      <td>ZBH26</td>\n",
       "      <td>December 2026</td>\n",
       "      <td>ZB</td>\n",
       "      <td>H</td>\n",
       "      <td>26</td>\n",
       "    </tr>\n",
       "    <tr>\n",
       "      <th>9</th>\n",
       "      <td>Financial</td>\n",
       "      <td>ZNU27</td>\n",
       "      <td>June 2027</td>\n",
       "      <td>ZN</td>\n",
       "      <td>U</td>\n",
       "      <td>27</td>\n",
       "    </tr>\n",
       "    <tr>\n",
       "      <th>10</th>\n",
       "      <td>Currency</td>\n",
       "      <td>6EH28</td>\n",
       "      <td>August 2028</td>\n",
       "      <td>6E</td>\n",
       "      <td>H</td>\n",
       "      <td>28</td>\n",
       "    </tr>\n",
       "    <tr>\n",
       "      <th>11</th>\n",
       "      <td>Currency</td>\n",
       "      <td>6BU29</td>\n",
       "      <td>September 2029</td>\n",
       "      <td>6B</td>\n",
       "      <td>U</td>\n",
       "      <td>29</td>\n",
       "    </tr>\n",
       "    <tr>\n",
       "      <th>12</th>\n",
       "      <td>Currency</td>\n",
       "      <td>6JU30</td>\n",
       "      <td>June 2030</td>\n",
       "      <td>6J</td>\n",
       "      <td>U</td>\n",
       "      <td>30</td>\n",
       "    </tr>\n",
       "    <tr>\n",
       "      <th>13</th>\n",
       "      <td>Currency</td>\n",
       "      <td>6AU31</td>\n",
       "      <td>July 2031</td>\n",
       "      <td>6A</td>\n",
       "      <td>U</td>\n",
       "      <td>31</td>\n",
       "    </tr>\n",
       "    <tr>\n",
       "      <th>14</th>\n",
       "      <td>Currency</td>\n",
       "      <td>6SH32</td>\n",
       "      <td>August 2032</td>\n",
       "      <td>6S</td>\n",
       "      <td>H</td>\n",
       "      <td>32</td>\n",
       "    </tr>\n",
       "    <tr>\n",
       "      <th>15</th>\n",
       "      <td>Interest Rate</td>\n",
       "      <td>GEU33</td>\n",
       "      <td>September 2033</td>\n",
       "      <td>GE</td>\n",
       "      <td>U</td>\n",
       "      <td>33</td>\n",
       "    </tr>\n",
       "    <tr>\n",
       "      <th>16</th>\n",
       "      <td>Interest Rate</td>\n",
       "      <td>FFM34</td>\n",
       "      <td>March 2034</td>\n",
       "      <td>FF</td>\n",
       "      <td>M</td>\n",
       "      <td>34</td>\n",
       "    </tr>\n",
       "    <tr>\n",
       "      <th>17</th>\n",
       "      <td>Crypto</td>\n",
       "      <td>BTCJ25</td>\n",
       "      <td>June 2025</td>\n",
       "      <td>BTC</td>\n",
       "      <td>J</td>\n",
       "      <td>25</td>\n",
       "    </tr>\n",
       "    <tr>\n",
       "      <th>18</th>\n",
       "      <td>Crypto</td>\n",
       "      <td>ETHS26</td>\n",
       "      <td>September 2026</td>\n",
       "      <td>ETH</td>\n",
       "      <td>S</td>\n",
       "      <td>26</td>\n",
       "    </tr>\n",
       "    <tr>\n",
       "      <th>19</th>\n",
       "      <td>Index</td>\n",
       "      <td>TFR27</td>\n",
       "      <td>July 2027</td>\n",
       "      <td>TF</td>\n",
       "      <td>R</td>\n",
       "      <td>27</td>\n",
       "    </tr>\n",
       "    <tr>\n",
       "      <th>20</th>\n",
       "      <td>Index</td>\n",
       "      <td>NKDU28</td>\n",
       "      <td>October 2028</td>\n",
       "      <td>NKD</td>\n",
       "      <td>U</td>\n",
       "      <td>28</td>\n",
       "    </tr>\n",
       "    <tr>\n",
       "      <th>21</th>\n",
       "      <td>Index</td>\n",
       "      <td>FDAXM29</td>\n",
       "      <td>December 2029</td>\n",
       "      <td>FDAX</td>\n",
       "      <td>M</td>\n",
       "      <td>29</td>\n",
       "    </tr>\n",
       "  </tbody>\n",
       "</table>\n",
       "</div>"
      ],
      "text/plain": [
       "      Asset Class   Symbol      Expiration fut_root month year\n",
       "0       Commodity    GCF23       June 2023       GC     F   23\n",
       "1       Commodity    CLH24     August 2024       CL     H   24\n",
       "2       Commodity    ZCU22  September 2022       ZC     U   22\n",
       "3       Commodity    ZSN23   November 2023       ZS     N   23\n",
       "4       Commodity    ZWW25    January 2025       ZW     W   25\n",
       "5       Financial    ESH23      March 2023       ES     H   23\n",
       "6       Financial    NQU24       June 2024       NQ     U   24\n",
       "7       Financial    YMU25  September 2025       YM     U   25\n",
       "8       Financial    ZBH26   December 2026       ZB     H   26\n",
       "9       Financial    ZNU27       June 2027       ZN     U   27\n",
       "10       Currency    6EH28     August 2028       6E     H   28\n",
       "11       Currency    6BU29  September 2029       6B     U   29\n",
       "12       Currency    6JU30       June 2030       6J     U   30\n",
       "13       Currency    6AU31       July 2031       6A     U   31\n",
       "14       Currency    6SH32     August 2032       6S     H   32\n",
       "15  Interest Rate    GEU33  September 2033       GE     U   33\n",
       "16  Interest Rate    FFM34      March 2034       FF     M   34\n",
       "17         Crypto   BTCJ25       June 2025      BTC     J   25\n",
       "18         Crypto   ETHS26  September 2026      ETH     S   26\n",
       "19          Index    TFR27       July 2027       TF     R   27\n",
       "20          Index   NKDU28    October 2028      NKD     U   28\n",
       "21          Index  FDAXM29   December 2029     FDAX     M   29"
      ]
     },
     "execution_count": 78,
     "metadata": {},
     "output_type": "execute_result"
    }
   ],
   "source": [
    "df.join(df['Symbol'].str.extract(r'(?P<fut_root>.+)(?P<month>[A-Z])(?P<year>\\d{1,2})'))\n",
    "#  .+: It matches all characters until it encounters a character that satisfies the next condition"
   ]
  },
  {
   "cell_type": "markdown",
   "id": "1571b0ef",
   "metadata": {},
   "source": [
    "# Iterators\n",
    "- represent a stream of data\n",
    "- allow sequential access to elements without storing the entire collection in memory\n",
    "- two methods:\n",
    "    - __iter__():Returns the iterator object itself\n",
    "    - __next__():Return the next element in the sequence"
   ]
  },
  {
   "cell_type": "code",
   "execution_count": 94,
   "id": "273889a2",
   "metadata": {},
   "outputs": [
    {
     "name": "stdout",
     "output_type": "stream",
     "text": [
      "1\n",
      "2\n",
      "3\n",
      "4\n"
     ]
    }
   ],
   "source": [
    "class MyIterator:\n",
    "    def __init__(self,start,end):\n",
    "        self.current = start\n",
    "        self.end = end\n",
    "    \n",
    "    def __iter__(self):\n",
    "        return self\n",
    "    \n",
    "    def __next__(self):\n",
    "        if self.current <= self.end:\n",
    "            value = self.current\n",
    "            self.current += 1\n",
    "            return value\n",
    "        else:\n",
    "            raise StopIteration\n",
    "\n",
    "my_iterator = MyIterator(1,5)\n",
    "# for num in my_iterator:\n",
    "#     print(num)\n",
    "print(next(my_iterator))\n",
    "print(next(my_iterator))\n",
    "print(next(my_iterator))\n",
    "print(next(my_iterator))"
   ]
  },
  {
   "cell_type": "markdown",
   "id": "debd0234",
   "metadata": {},
   "source": [
    "# Generators\n",
    "- useful in algorithmic trading for generating an infinite stream of market data or signals"
   ]
  },
  {
   "cell_type": "code",
   "execution_count": 95,
   "id": "859f2442",
   "metadata": {},
   "outputs": [],
   "source": [
    "import random\n",
    "\n",
    "def price_generator():\n",
    "    for i in range(1000000):\n",
    "        yield i"
   ]
  },
  {
   "cell_type": "code",
   "execution_count": 91,
   "id": "aeeee66e",
   "metadata": {},
   "outputs": [
    {
     "data": {
      "text/plain": [
       "0"
      ]
     },
     "execution_count": 91,
     "metadata": {},
     "output_type": "execute_result"
    }
   ],
   "source": [
    "a = price_generator()\n",
    "next(a)"
   ]
  },
  {
   "cell_type": "code",
   "execution_count": 92,
   "id": "875831db",
   "metadata": {},
   "outputs": [
    {
     "data": {
      "text/plain": [
       "1"
      ]
     },
     "execution_count": 92,
     "metadata": {},
     "output_type": "execute_result"
    }
   ],
   "source": [
    "next(a)"
   ]
  },
  {
   "cell_type": "code",
   "execution_count": 93,
   "id": "f84222aa",
   "metadata": {},
   "outputs": [
    {
     "data": {
      "text/plain": [
       "2"
      ]
     },
     "execution_count": 93,
     "metadata": {},
     "output_type": "execute_result"
    }
   ],
   "source": [
    "next(a)"
   ]
  },
  {
   "cell_type": "markdown",
   "id": "126be307",
   "metadata": {},
   "source": [
    "### Example:\n",
    "-  Create a generator returning the fibonacci numbers\n",
    "-  Create the iterator random walk. Every time, it will update an initial value stored in the random walk iterator."
   ]
  },
  {
   "cell_type": "code",
   "execution_count": 96,
   "id": "500f462f",
   "metadata": {},
   "outputs": [
    {
     "name": "stdout",
     "output_type": "stream",
     "text": [
      "0\n",
      "1\n",
      "1\n",
      "2\n",
      "3\n",
      "5\n",
      "8\n",
      "13\n",
      "21\n",
      "34\n"
     ]
    }
   ],
   "source": [
    "import random\n",
    "def fibonacci():\n",
    "    a,b = 0,1\n",
    "    while True:\n",
    "        yield a \n",
    "        a,b = b,a+b\n",
    "\n",
    "f = fibonacci()       \n",
    "for i in range(10):\n",
    "    print(next(f))\n",
    "    "
   ]
  },
  {
   "cell_type": "code",
   "execution_count": 112,
   "id": "fb1c5735",
   "metadata": {},
   "outputs": [
    {
     "name": "stdout",
     "output_type": "stream",
     "text": [
      "-1\n",
      "-2\n",
      "-3\n",
      "-2\n",
      "-1\n",
      "-2\n",
      "-1\n",
      "0\n",
      "-1\n",
      "-2\n"
     ]
    }
   ],
   "source": [
    "class RandomWalk:\n",
    "    def __init__(self, init = 0):\n",
    "        self.value = init\n",
    "    \n",
    "    def __iter__(self):\n",
    "        return self\n",
    "    \n",
    "    def __next__(self):\n",
    "        move = random.choice([-1,1])\n",
    "        self.value += move\n",
    "        return self.value\n",
    "\n",
    "rw = RandomWalk()\n",
    "for i in range(10):\n",
    "    print(next(rw))"
   ]
  },
  {
   "cell_type": "code",
   "execution_count": 115,
   "id": "3d05d472",
   "metadata": {},
   "outputs": [
    {
     "data": {
      "text/html": [
       "<div>\n",
       "<style scoped>\n",
       "    .dataframe tbody tr th:only-of-type {\n",
       "        vertical-align: middle;\n",
       "    }\n",
       "\n",
       "    .dataframe tbody tr th {\n",
       "        vertical-align: top;\n",
       "    }\n",
       "\n",
       "    .dataframe thead th {\n",
       "        text-align: right;\n",
       "    }\n",
       "</style>\n",
       "<table border=\"1\" class=\"dataframe\">\n",
       "  <thead>\n",
       "    <tr style=\"text-align: right;\">\n",
       "      <th></th>\n",
       "      <th>RandomWalk</th>\n",
       "    </tr>\n",
       "  </thead>\n",
       "  <tbody>\n",
       "    <tr>\n",
       "      <th>0</th>\n",
       "      <td>1</td>\n",
       "    </tr>\n",
       "    <tr>\n",
       "      <th>1</th>\n",
       "      <td>0</td>\n",
       "    </tr>\n",
       "    <tr>\n",
       "      <th>2</th>\n",
       "      <td>1</td>\n",
       "    </tr>\n",
       "    <tr>\n",
       "      <th>3</th>\n",
       "      <td>0</td>\n",
       "    </tr>\n",
       "    <tr>\n",
       "      <th>4</th>\n",
       "      <td>1</td>\n",
       "    </tr>\n",
       "    <tr>\n",
       "      <th>...</th>\n",
       "      <td>...</td>\n",
       "    </tr>\n",
       "    <tr>\n",
       "      <th>795</th>\n",
       "      <td>6</td>\n",
       "    </tr>\n",
       "    <tr>\n",
       "      <th>796</th>\n",
       "      <td>7</td>\n",
       "    </tr>\n",
       "    <tr>\n",
       "      <th>797</th>\n",
       "      <td>6</td>\n",
       "    </tr>\n",
       "    <tr>\n",
       "      <th>798</th>\n",
       "      <td>5</td>\n",
       "    </tr>\n",
       "    <tr>\n",
       "      <th>799</th>\n",
       "      <td>4</td>\n",
       "    </tr>\n",
       "  </tbody>\n",
       "</table>\n",
       "<p>800 rows × 1 columns</p>\n",
       "</div>"
      ],
      "text/plain": [
       "     RandomWalk\n",
       "0             1\n",
       "1             0\n",
       "2             1\n",
       "3             0\n",
       "4             1\n",
       "..          ...\n",
       "795           6\n",
       "796           7\n",
       "797           6\n",
       "798           5\n",
       "799           4\n",
       "\n",
       "[800 rows x 1 columns]"
      ]
     },
     "execution_count": 115,
     "metadata": {},
     "output_type": "execute_result"
    }
   ],
   "source": [
    "import pandas as pd\n",
    "values = []\n",
    "\n",
    "for i in range(800):\n",
    "    values.append(next(rw))\n",
    "df = pd.DataFrame(values, columns=['RandomWalk'])\n",
    "df"
   ]
  },
  {
   "cell_type": "code",
   "execution_count": 116,
   "id": "fef911a4",
   "metadata": {},
   "outputs": [
    {
     "data": {
      "text/plain": [
       "<Axes: >"
      ]
     },
     "execution_count": 116,
     "metadata": {},
     "output_type": "execute_result"
    },
    {
     "data": {
      "image/png": "[encoded data removed]",
      "text/plain": [
       "<Figure size 432x288 with 1 Axes>"
      ]
     },
     "metadata": {
      "needs_background": "light"
     },
     "output_type": "display_data"
    }
   ],
   "source": [
    "df.plot()"
   ]
  },
  {
   "cell_type": "markdown",
   "id": "4acf8dbb",
   "metadata": {},
   "source": [
    "# PCA\n"
   ]
  }
 ],
 "metadata": {
  "kernelspec": {
   "display_name": "Python 3 (ipykernel)",
   "language": "python",
   "name": "python3"
  },
  "language_info": {
   "codemirror_mode": {
    "name": "ipython",
    "version": 3
   },
   "file_extension": ".py",
   "mimetype": "text/x-python",
   "name": "python",
   "nbconvert_exporter": "python",
   "pygments_lexer": "ipython3",
   "version": "3.8.8"
  }
 },
 "nbformat": 4,
 "nbformat_minor": 5
}
