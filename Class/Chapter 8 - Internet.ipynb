{
 "cells": [
  {
   "cell_type": "markdown",
   "id": "3eb2cef8",
   "metadata": {},
   "source": [
    "# How to receive and send message\n",
    "\n",
    "- UDP: send channel to everyone (broad range)\n",
    "- TCP: much more reliable than UDP, prevent losing information\n",
    "\n",
    "# OSI Model\n",
    "## IP\n",
    "## TCP\n",
    "## UDP\n",
    "\n",
    "\n",
    "## Sockets\n",
    "- allows communication between two or more computers over a network \n",
    "- provide a low-level interface for network communication by enabling processes running on different machines to establish connections and exchange data\n",
    "\n",
    "## Client-server model\n",
    "- client initiate a connection\n",
    "- server listens for incoming connection (exchange)"
   ]
  },
  {
   "cell_type": "markdown",
   "id": "615beb8d",
   "metadata": {},
   "source": [
    "# Fix protocol format layout\n",
    "Tag\n",
    "- FIX uses predefined Tags\n",
    "- Each Tag represent the specific field\n",
    "- Each tag is given a predefined number\n",
    "- FIX Field dictionary provides the list of Fields and corresponding Tag numbers (Supplied with Spec)\n",
    "- Dictionary is available at the end of specification (by number and by tag name)\n",
    "\n",
    "Value\n",
    "- Values represent the value of the Tag assigned to\n",
    "- Supported Data Types are:\n",
    "int, float, char, time, date, data, string\n",
    "\n",
    "## example:\n",
    "- 8=FIX.4.219=124|35=V|34=2|49=DONALD|52=20160617-23:12:01.333|\n",
    "\n",
    "## 特点：\n",
    "- 和json string基本一样，只是不需要store values in variables to reduce space usage"
   ]
  },
  {
   "cell_type": "code",
   "execution_count": null,
   "id": "160ab9c6",
   "metadata": {},
   "outputs": [],
   "source": []
  }
 ],
 "metadata": {
  "kernelspec": {
   "display_name": "Python 3 (ipykernel)",
   "language": "python",
   "name": "python3"
  },
  "language_info": {
   "codemirror_mode": {
    "name": "ipython",
    "version": 3
   },
   "file_extension": ".py",
   "mimetype": "text/x-python",
   "name": "python",
   "nbconvert_exporter": "python",
   "pygments_lexer": "ipython3",
   "version": "3.8.8"
  }
 },
 "nbformat": 4,
 "nbformat_minor": 5
}
