{
 "cells": [
  {
   "cell_type": "markdown",
   "id": "395efe81",
   "metadata": {},
   "source": [
    "## Example: server model\n",
    "1. first client initiate a connection to the server (info sent)  eg. seb\n",
    "2. server will capitalize the info sent and send it back to the client eg. SEB\n",
    "3. client displays capitalized info on the screen  eg. SEB"
   ]
  },
  {
   "cell_type": "code",
   "execution_count": null,
   "id": "8735b1b5",
   "metadata": {},
   "outputs": [],
   "source": [
    "import socketserver\n",
    "\n",
    "class MyTCPHandler(socketserver.BaseRequestHandler):\n",
    "    \"\"\"\n",
    "    The request handler class for our server.\n",
    "\n",
    "    It is instantiated once per connection to the server, and must\n",
    "    override the handle() method to implement communication to the\n",
    "    client.\n",
    "    \"\"\"\n",
    "\n",
    "    def handle(self):\n",
    "        # self.request is the TCP socket connected to the client\n",
    "        # we expect a string sent by the client\n",
    "        self.data = self.request.recv(1024).strip()\n",
    "        print(\"{} wrote:\".format(self.client_address[0]))\n",
    "        print(self.data)\n",
    "        # just send back the same data, but upper-cased\n",
    "        self.request.sendall(self.data.upper())\n",
    "\n",
    "if __name__ == \"__main__\":\n",
    "    HOST, PORT = \"localhost\", 9999\n",
    "\n",
    "    # Create the server, binding to localhost on port 9999\n",
    "    with socketserver.TCPServer((HOST, PORT), MyTCPHandler) as server:\n",
    "        # Activate the server; this will keep running until you\n",
    "        # interrupt the program with Ctrl-C\n",
    "        server.serve_forever()"
   ]
  },
  {
   "cell_type": "markdown",
   "id": "377a2cf8",
   "metadata": {},
   "source": [
    "## Example: \n",
    "1. initiate connection send nothing to the server\n",
    "2. servcer each time send 1,2,3,...., until 10\n",
    "3. each time, calculate the moving average"
   ]
  },
  {
   "cell_type": "code",
   "execution_count": null,
   "id": "398d0b80",
   "metadata": {},
   "outputs": [],
   "source": [
    "import socketserver\n",
    "import time\n",
    "\n",
    "class MyTCPHandler(socketserver.BaseRequestHandler):\n",
    "    \"\"\"\n",
    "    The request handler class for our server.\n",
    "\n",
    "    It is instantiated once per connection to the server, and must\n",
    "    override the handle() method to implement communication to the\n",
    "    client.\n",
    "    \"\"\"\n",
    "\n",
    "    def handle(self):\n",
    "        for i in range(11):\n",
    "            data_to_send = str(i)\n",
    "            data_to_send = bytes(data_to_send + \"\\n\", \"utf-8\")\n",
    "            self.request.sendall(data_to_send)\n",
    "            time.sleep(1)\n",
    "\n",
    "if __name__ == \"__main__\":\n",
    "    HOST, PORT = \"localhost\", 9999\n",
    "\n",
    "    # Create the server, binding to localhost on port 9999\n",
    "    with socketserver.TCPServer((HOST, PORT), MyTCPHandler) as server:\n",
    "        # Activate the server; this will keep running until you\n",
    "        # interrupt the program with Ctrl-C\n",
    "        server.serve_forever()"
   ]
  },
  {
   "cell_type": "markdown",
   "id": "22b72649",
   "metadata": {},
   "source": [
    "## Example 3: \n",
    "You will create a client-server:\n",
    "\n",
    "the server will send 200 random number going from 5 to 15 every 0.5 second.\n",
    "the client will calculate 2 moving average. the small moving average out of 10 data, the long moving average out of 20 data. When the small moving average intersect upward the long moving average you will send a buy order, otherwise you will send a sell order.\n"
   ]
  },
  {
   "cell_type": "code",
   "execution_count": null,
   "id": "5e4a93a3",
   "metadata": {},
   "outputs": [],
   "source": [
    "import socketserver\n",
    "import time\n",
    "import random\n",
    "\n",
    "class MyTCPHandler(socketserver.BaseRequestHandler):\n",
    "    \"\"\"\n",
    "    The request handler class for our server.\n",
    "\n",
    "    It is instantiated once per connection to the server, and must\n",
    "    override the handle() method to implement communication to the\n",
    "    client.\n",
    "    \"\"\"\n",
    "\n",
    "    def handle(self):\n",
    "        numbers = []\n",
    "        for i in range(201):\n",
    "            numbers.append(random.randin(5,15))\n",
    "        for number in numbers:\n",
    "            data_to_send = str(number)\n",
    "            data_to_send = bytes(data_to_send + \"\\n\", \"utf-8\")\n",
    "            self.request.sendall(data_to_send)\n",
    "            time.sleep(0.5)\n",
    "\n",
    "if __name__ == \"__main__\":\n",
    "    HOST, PORT = \"localhost\", 9999\n",
    "\n",
    "    # Create the server, binding to localhost on port 9999\n",
    "    with socketserver.TCPServer((HOST, PORT), MyTCPHandler) as server:\n",
    "        # Activate the server; this will keep running until you\n",
    "        # interrupt the program with Ctrl-C\n",
    "        server.serve_forever()"
   ]
  },
  {
   "cell_type": "code",
   "execution_count": null,
   "id": "50ef15a3",
   "metadata": {},
   "outputs": [],
   "source": [
    "import socketserver\n",
    "\n",
    "class MyTCPHandler(socketserver.BaseRequestHandler):\n",
    "    \"\"\"\n",
    "    The request handler class for our server.\n",
    "\n",
    "    It is instantiated once per connection to the server, and must\n",
    "    override the handle() method to implement communication to the\n",
    "    client.\n",
    "    \"\"\"\n",
    "\n",
    "    def handle(self):\n",
    "        # self.request is the TCP socket connected to the client\n",
    "        # we expect a string sent by the client\n",
    "        self.data = self.request.recv(1024).strip()\n",
    "        print(\"{} wrote:\".format(self.client_address[0]))\n",
    "        print(self.data)\n",
    "        # just send back the same data, but upper-cased\n",
    "        self.request.sendall(self.data.upper())\n",
    "\n",
    "if __name__ == \"__main__\":\n",
    "    HOST, PORT = \"localhost\", 9999\n",
    "\n",
    "    # Create the server, binding to localhost on port 9999\n",
    "    with socketserver.TCPServer((HOST, PORT), MyTCPHandler) as server:\n",
    "        # Activate the server; this will keep running until you\n",
    "        # interrupt the program with Ctrl-C\n",
    "        server.serve_forever()"
   ]
  },
  {
   "cell_type": "code",
   "execution_count": null,
   "id": "6501ffe0",
   "metadata": {},
   "outputs": [],
   "source": []
  }
 ],
 "metadata": {
  "kernelspec": {
   "display_name": "Python 3 (ipykernel)",
   "language": "python",
   "name": "python3"
  },
  "language_info": {
   "codemirror_mode": {
    "name": "ipython",
    "version": 3
   },
   "file_extension": ".py",
   "mimetype": "text/x-python",
   "name": "python",
   "nbconvert_exporter": "python",
   "pygments_lexer": "ipython3",
   "version": "3.8.8"
  }
 },
 "nbformat": 4,
 "nbformat_minor": 5
}
