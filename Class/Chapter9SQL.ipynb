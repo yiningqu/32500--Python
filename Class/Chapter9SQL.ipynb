{
 "cells": [
  {
   "cell_type": "markdown",
   "id": "fb0fcd8d",
   "metadata": {},
   "source": [
    "# Chapter 9"
   ]
  },
  {
   "cell_type": "markdown",
   "id": "34bb8614",
   "metadata": {},
   "source": [
    "## SQL\n",
    "- manage database"
   ]
  },
  {
   "cell_type": "markdown",
   "id": "1fb35bee",
   "metadata": {},
   "source": [
    "## SQL Commands\n",
    "- insert\n",
    "    - insert into symbol_company values ('AAL','American Airlines')\n",
    "\n",
    "- delete\n",
    "    - delete from symbol_company where company = 'united'\n",
    "\n",
    "- allow updating of a field with a where clause\n",
    "\n",
    "- Select the database\n",
    "    - Select * from symbol_company where symbol = 'UL' order by symbol;\n",
    "\n",
    "- Regroup \n",
    "    - Select count(*) from symbol_company where symbol = 'UL; group by symbol;"
   ]
  },
  {
   "cell_type": "markdown",
   "id": "9672c192",
   "metadata": {},
   "source": [
    "## Different keys\n",
    "1. Primary key\n",
    "2. Foreign key\n",
    "\n",
    "## Joint\n",
    "- 用python会花很久，但用SQL会方便很多"
   ]
  },
  {
   "cell_type": "markdown",
   "id": "8c17a066",
   "metadata": {},
   "source": [
    "# Using Python"
   ]
  },
  {
   "cell_type": "code",
   "execution_count": 13,
   "id": "13d477e0",
   "metadata": {},
   "outputs": [
    {
     "ename": "OperationalError",
     "evalue": "database is locked",
     "output_type": "error",
     "traceback": [
      "\u001b[0;31m---------------------------------------------------------------------------\u001b[0m",
      "\u001b[0;31mOperationalError\u001b[0m                          Traceback (most recent call last)",
      "Cell \u001b[0;32mIn[13], line 7\u001b[0m\n\u001b[1;32m      4\u001b[0m c \u001b[38;5;241m=\u001b[39m conn\u001b[38;5;241m.\u001b[39mcursor()\n\u001b[1;32m      6\u001b[0m \u001b[38;5;66;03m# #create table\u001b[39;00m\n\u001b[0;32m----> 7\u001b[0m \u001b[43mc\u001b[49m\u001b[38;5;241;43m.\u001b[39;49m\u001b[43mexecute\u001b[49m\u001b[43m(\u001b[49m\u001b[38;5;124;43m\"\u001b[39;49m\u001b[38;5;124;43minsert into person values(\u001b[39;49m\u001b[38;5;124;43m'\u001b[39;49m\u001b[38;5;124;43mcoco\u001b[39;49m\u001b[38;5;124;43m'\u001b[39;49m\u001b[38;5;124;43m,\u001b[39;49m\u001b[38;5;124;43m'\u001b[39;49m\u001b[38;5;124;43mlisa\u001b[39;49m\u001b[38;5;124;43m'\u001b[39;49m\u001b[38;5;124;43m,25,\u001b[39;49m\u001b[38;5;124;43m'\u001b[39;49m\u001b[38;5;124;43mssn4\u001b[39;49m\u001b[38;5;124;43m'\u001b[39;49m\u001b[38;5;124;43m,\u001b[39;49m\u001b[38;5;124;43m'\u001b[39;49m\u001b[38;5;124;43maddress\u001b[39;49m\u001b[38;5;124;43m'\u001b[39;49m\u001b[38;5;124;43m)\u001b[39;49m\u001b[38;5;124;43m\"\u001b[39;49m\u001b[43m)\u001b[49m\n\u001b[1;32m      8\u001b[0m \u001b[38;5;28;01mfor\u001b[39;00m row \u001b[38;5;129;01min\u001b[39;00m c\u001b[38;5;241m.\u001b[39mexecute(\u001b[38;5;124m'\u001b[39m\u001b[38;5;124mSELECT * FROM person\u001b[39m\u001b[38;5;124m'\u001b[39m):\n\u001b[1;32m      9\u001b[0m     \u001b[38;5;28mprint\u001b[39m(row)\n",
      "\u001b[0;31mOperationalError\u001b[0m: database is locked"
     ]
    }
   ],
   "source": [
    "import sqlite3\n",
    "conn = sqlite3.connect('/Users/yiningqu/Desktop/seb.db')\n",
    "\n",
    "c = conn.cursor()\n",
    "\n",
    "# #create table\n",
    "c.execute(\"insert into person values('coco','lisa',25,'ssn4','address')\")\n",
    "for row in c.execute('SELECT * FROM person'):\n",
    "    print(row)\n",
    "\n",
    "conn.commit()\n",
    "conn.close()"
   ]
  },
  {
   "cell_type": "markdown",
   "id": "4e51cfca",
   "metadata": {},
   "source": [
    "# Using SQL "
   ]
  },
  {
   "cell_type": "code",
   "execution_count": null,
   "id": "7c8a6d07",
   "metadata": {},
   "outputs": [],
   "source": [
    "Last login: Fri Dec  1 16:00:49 on ttys000\n",
    "/opt/anaconda3/bin/jupyter_mac.command ; exit;\n",
    "(/opt/anaconda3) yiningqu@quyiningdeMacBook-Pro ~ % /opt/anaconda3/bin/jupyter_mac.command ; exit;\n",
    "[W 16:13:39.556 NotebookApp] Loading JupyterLab as a classic notebook (v6) extension.\n",
    "[C 16:13:39.556 NotebookApp] You must use Jupyter Server v1 to load JupyterLab as notebook extension. You have v2.5.0 installed.\n",
    "    You can fix this by executing:\n",
    "        pip install -U \"jupyter-server<2.0.0\"\n",
    "[I 16:13:39.557 NotebookApp] Serving notebooks from local directory: /Users/yiningqu\n",
    "[I 16:13:39.557 NotebookApp] Jupyter Notebook 6.3.0 is running at:\n",
    "[I 16:13:39.557 NotebookApp] http://localhost:8888/?token=3e463dfaeeaad7d4932b76721232412c6f8a0d9c26877939\n",
    "[I 16:13:39.557 NotebookApp]  or http://127.0.0.1:8888/?token=3e463dfaeeaad7d4932b76721232412c6f8a0d9c26877939\n",
    "[I 16:13:39.557 NotebookApp] Use Control-C to stop this server and shut down all kernels (twice to skip confirmation).\n",
    "[C 16:13:39.563 NotebookApp] \n",
    "    \n",
    "    To access the notebook, open this file in a browser:\n",
    "        file:///Users/yiningqu/Library/Jupyter/runtime/nbserver-93722-open.html\n",
    "    Or copy and paste one of these URLs:\n",
    "        http://localhost:8888/?token=3e463dfaeeaad7d4932b76721232412c6f8a0d9c26877939\n",
    "     or http://127.0.0.1:8888/?token=3e463dfaeeaad7d4932b76721232412c6f8a0d9c26877939\n",
    "/opt/anaconda3/lib/python3.8/json/encoder.py:257: UserWarning: date_default is deprecated since jupyter_client 7.0.0. Use jupyter_client.jsonutil.json_default.\n",
    "  return _iterencode(o, 0)\n",
    "[W 16:14:19.279 NotebookApp] Notebook Desktop/研究生/32500-Python/Class/Untitled.ipynb is not trusted\n",
    "[I 16:14:19.554 NotebookApp] Kernel started: 8563d44b-68c1-4d38-9b5f-5144b81de5e0, name: python3\n",
    "/opt/anaconda3/lib/python3.8/json/encoder.py:257: UserWarning: date_default is deprecated since jupyter_client 7.0.0. Use jupyter_client.jsonutil.json_default.\n",
    "  return _iterencode(o, 0)\n",
    "[I 16:14:34.623 NotebookApp] Starting buffering for 8563d44b-68c1-4d38-9b5f-5144b81de5e0:edebfb7744434266828ea8d1db0afb1a\n",
    "[W 16:14:34.661 NotebookApp] Notebook Desktop/研究生/32500-Python/Class/Chapter 9 SQL.ipynb is not trusted\n",
    "[I 16:16:34.910 NotebookApp] Saving file at /Desktop/研究生/32500-Python/Class/Chapter 9 SQL.ipynb\n",
    "/opt/anaconda3/lib/python3.8/site-packages/nbformat/__init__.py:129: MissingIDFieldWarning: Code cell is missing an id field, this will become a hard error in future nbformat versions. You may want to use `normalize()` on your notebooks before validations (available since nbformat 5.1.4). Previous versions of nbformat are fixing this issue transparently, and will stop doing so in the future.\n",
    "  validate(nb)\n",
    "/opt/anaconda3/lib/python3.8/site-packages/notebook/services/contents/manager.py:354: MissingIDFieldWarning: Code cell is missing an id field, this will become a hard error in future nbformat versions. You may want to use `normalize()` on your notebooks before validations (available since nbformat 5.1.4). Previous versions of nbformat are fixing this issue transparently, and will stop doing so in the future.\n",
    "  validate_nb(model['content'])\n",
    "[I 16:18:34.912 NotebookApp] Saving file at /Desktop/研究生/32500-Python/Class/Chapter 9 SQL.ipynb\n",
    "[I 16:20:34.907 NotebookApp] Saving file at /Desktop/研究生/32500-Python/Class/Chapter 9 SQL.ipynb\n",
    "\n"
   ]
  },
  {
   "cell_type": "markdown",
   "id": "00441eaa",
   "metadata": {},
   "source": [
    "# Python - postgres"
   ]
  },
  {
   "cell_type": "code",
   "execution_count": null,
   "id": "3ad162d4",
   "metadata": {},
   "outputs": [],
   "source": [
    "import psycopg2\n",
    "\n",
    "try:\n",
    "     conn = \n",
    "        psycopg2.connect(\"dbname='mktdata'\n",
    "        user='seb', host='127.0.0.1',\n",
    "        database='mktdata'\"\")"
   ]
  },
  {
   "cell_type": "markdown",
   "id": "2a125f6c",
   "metadata": {},
   "source": [
    "# Python - mysql"
   ]
  },
  {
   "cell_type": "code",
   "execution_count": null,
   "id": "caeb5af4",
   "metadata": {},
   "outputs": [],
   "source": [
    "import mysql.connector\n",
    "\n",
    "conn = mysql.connector\n",
    "try:\n",
    "     conn = \n",
    "        psycopg2.connect(\"dbname='mktdata'\n",
    "        user='seb', host='127.0.0.1',\n",
    "        database='mktdata'\"\")"
   ]
  },
  {
   "cell_type": "markdown",
   "id": "37c15c8e",
   "metadata": {},
   "source": [
    "# Python - KBD\n",
    "- not SQL based"
   ]
  },
  {
   "cell_type": "markdown",
   "id": "23e0ebf8",
   "metadata": {},
   "source": [
    "# Serialization"
   ]
  },
  {
   "cell_type": "markdown",
   "id": "07e67d10",
   "metadata": {},
   "source": [
    "# Human readable representation\n",
    "- repr\n",
    "- csv: \n",
    "    - 缺点：all strings\n",
    "- xml\n",
    "- json\n",
    "- yaml"
   ]
  },
  {
   "cell_type": "markdown",
   "id": "f1126868",
   "metadata": {},
   "source": [
    "# Binary method\n",
    "- numpy\n",
    "- pickle:\n",
    "    - can use it to store data\n",
    "- protobuf"
   ]
  },
  {
   "cell_type": "markdown",
   "id": "c8ff7d86",
   "metadata": {},
   "source": [
    "# Bloom filters\n",
    "- the element either definitively is not in the set o may be in the set \n",
    "    - 当说是correct时，是100%correct而不是99.99%\n",
    "- bloom filters are called filters because they are often used as a cheap first pass to filter our segments of a dataset that do not match a query"
   ]
  },
  {
   "cell_type": "markdown",
   "id": "51ad639a",
   "metadata": {},
   "source": [
    "\n",
    "## Example: BF characteristics\n",
    "Bloom filter is a bit array of m bits, all set to 0 at the beginning\n",
    "\n",
    "To insert element into the filter - calculate values of all k hash functions for the element and set bit with the corresponding indices\n",
    "\n",
    "To test if element is in the filter - calculate all k hash functions for the element and check bits in all corresponding indices:\n",
    "\n",
    "- if all bits are set, then answer is \"maybe\"\n",
    "- if at least 1 bit isn't set, then answer is \"definitely not\"\n",
    "\n",
    "Time needed to insert or test elements is a fixed constant O(k), independent from the number of items already in the filter**"
   ]
  },
  {
   "cell_type": "code",
   "execution_count": 27,
   "id": "18bc77ec",
   "metadata": {},
   "outputs": [
    {
     "name": "stdout",
     "output_type": "stream",
     "text": [
      "Collecting pybloom-live\n",
      "  Downloading pybloom_live-4.0.0.tar.gz (10 kB)\n",
      "  Preparing metadata (setup.py) ... \u001b[?25ldone\n",
      "\u001b[?25hRequirement already satisfied: bitarray>=0.3.4 in /opt/anaconda3/lib/python3.8/site-packages (from pybloom-live) (2.5.1)\n",
      "Collecting xxhash>=3.0.0 (from pybloom-live)\n",
      "  Downloading xxhash-3.4.1-cp38-cp38-macosx_10_9_x86_64.whl.metadata (12 kB)\n",
      "Downloading xxhash-3.4.1-cp38-cp38-macosx_10_9_x86_64.whl (31 kB)\n",
      "Building wheels for collected packages: pybloom-live\n",
      "  Building wheel for pybloom-live (setup.py) ... \u001b[?25ldone\n",
      "\u001b[?25h  Created wheel for pybloom-live: filename=pybloom_live-4.0.0-py3-none-any.whl size=9227 sha256=3d333e70d6fdddad5e7ee859d76ae6b1483d2cb4061f032cecb3e97b604e3b75\n",
      "  Stored in directory: /Users/yiningqu/Library/Caches/pip/wheels/fa/05/5b/632be6183ffb57a72bd83d7173079a0eb4cee8c010063199f8\n",
      "Successfully built pybloom-live\n",
      "Installing collected packages: xxhash, pybloom-live\n",
      "Successfully installed pybloom-live-4.0.0 xxhash-3.4.1\n",
      "\u001b[33mWARNING: There was an error checking the latest version of pip.\u001b[0m\u001b[33m\n",
      "\u001b[0m"
     ]
    }
   ],
   "source": [
    "import time\n",
    "!pip install pybloom-live\n",
    "from pybloom_live import BloomFilter\n",
    "\n",
    "num_elements = 10000\n",
    "\n",
    "# 0.1% is not correct\n",
    "bloom = BloomFilter(capacity = num_elements, error_rate= 0.001)\n",
    "hash_table = {}\n",
    "\n",
    "def measure_lookup_time(data_structure, elements):\n",
    "    "
   ]
  },
  {
   "cell_type": "markdown",
   "id": "891739a0",
   "metadata": {},
   "source": [
    "# Cuckoo filters\n",
    "- using more memory but wth more accuracy compared to bloom filters"
   ]
  },
  {
   "cell_type": "markdown",
   "id": "2d963c43",
   "metadata": {},
   "source": [
    "# HyperLogLog\n",
    "- p: number of bits that determine a bucket to use averaging\n",
    "- h: hash function, that produces uniform hash values\n",
    "\n",
    "将其拆开成3+4 前面的数字代表放在第几个in hash table，后面的数字代表放在里面的数值\n",
    "\n",
    "eg. hash['ffdsjal'] = '0101011'\n",
    "\n",
    "010 = 3, 1011 = 8 --> 在table3里面放value8"
   ]
  },
  {
   "cell_type": "code",
   "execution_count": null,
   "id": "b0e8da07",
   "metadata": {},
   "outputs": [],
   "source": []
  }
 ],
 "metadata": {
  "kernelspec": {
   "display_name": "Python 3 (ipykernel)",
   "language": "python",
   "name": "python3"
  },
  "language_info": {
   "codemirror_mode": {
    "name": "ipython",
    "version": 3
   },
   "file_extension": ".py",
   "mimetype": "text/x-python",
   "name": "python",
   "nbconvert_exporter": "python",
   "pygments_lexer": "ipython3",
   "version": "3.8.8"
  }
 },
 "nbformat": 4,
 "nbformat_minor": 5
}
