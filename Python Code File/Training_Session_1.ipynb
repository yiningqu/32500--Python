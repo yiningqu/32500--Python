{
 "cells": [
  {
   "cell_type": "code",
   "execution_count": 1,
   "id": "273784e3",
   "metadata": {},
   "outputs": [],
   "source": [
    "import pandas as pd\n",
    "import numpy as np"
   ]
  },
  {
   "cell_type": "code",
   "execution_count": 2,
   "id": "37c85d83",
   "metadata": {},
   "outputs": [
    {
     "name": "stdout",
     "output_type": "stream",
     "text": [
      "[3, 1, 2, 3, 4, 5]\n"
     ]
    }
   ],
   "source": [
    "#Assignment 1\n",
    "def remove_duplicates(input_list):\n",
    "    new_list = [input_list[0]]\n",
    "    for i in range(1,len(input_list)):\n",
    "        if input_list[i] == input_list[i-1]:\n",
    "            continue\n",
    "        else:\n",
    "            new_list.append(input_list[i])\n",
    "\n",
    "    return new_list\n",
    "\n",
    "\n",
    "\n",
    "input_list = [3, 1, 2, 2, 3, 4, 5, 5]\n",
    "output_list = remove_duplicates(input_list)\n",
    "print(output_list)"
   ]
  },
  {
   "cell_type": "code",
   "execution_count": 3,
   "id": "8bc14ad6",
   "metadata": {},
   "outputs": [
    {
     "name": "stdout",
     "output_type": "stream",
     "text": [
      "True\n",
      "False\n"
     ]
    }
   ],
   "source": [
    "#Assignment 2\n",
    "def is_palindrome(string):\n",
    "    judge = False\n",
    "    i = int(len(string)/2)\n",
    "    for j in range(i):\n",
    "        if string[j] == string[len(string)-j-1]:\n",
    "            judge = True\n",
    "        else:\n",
    "            judge = False\n",
    "\n",
    "    return judge\n",
    "\n",
    "\n",
    "string1 = \"radar\"\n",
    "string2 = \"python\"\n",
    "print(is_palindrome(string1))  # Output: True\n",
    "print(is_palindrome(string2))  # Output: False"
   ]
  },
  {
   "cell_type": "code",
   "execution_count": 4,
   "id": "3a04a963",
   "metadata": {},
   "outputs": [
    {
     "name": "stdout",
     "output_type": "stream",
     "text": [
      "120\n",
      "1\n"
     ]
    }
   ],
   "source": [
    "#Assignment 3\n",
    "def calculate_factorial(num):\n",
    "    result = 1\n",
    "    if num < 0:\n",
    "        return \"The value cannot be calculated\"\n",
    "    else:\n",
    "        for i in range(1,num+1):\n",
    "            result *= i\n",
    "        return result\n",
    "\n",
    "\n",
    "\n",
    "num1 = 5\n",
    "num2 = 0\n",
    "print(calculate_factorial(num1))  # Output: 120\n",
    "print(calculate_factorial(num2))  # Output: 1"
   ]
  },
  {
   "cell_type": "code",
   "execution_count": 5,
   "id": "93a33847",
   "metadata": {},
   "outputs": [
    {
     "name": "stdout",
     "output_type": "stream",
     "text": [
      "[NbConvertApp] Converting notebook Training_Session_1.ipynb to html\n",
      "[NbConvertApp] Writing 575860 bytes to Training_Session_1.html\n"
     ]
    }
   ],
   "source": [
    "!jupyter nbconvert --to html Training_Session_1.ipynb"
   ]
  },
  {
   "cell_type": "code",
   "execution_count": null,
   "id": "c56ce6ad",
   "metadata": {},
   "outputs": [],
   "source": []
  }
 ],
 "metadata": {
  "kernelspec": {
   "display_name": "Python 3",
   "language": "python",
   "name": "python3"
  },
  "language_info": {
   "codemirror_mode": {
    "name": "ipython",
    "version": 3
   },
   "file_extension": ".py",
   "mimetype": "text/x-python",
   "name": "python",
   "nbconvert_exporter": "python",
   "pygments_lexer": "ipython3",
   "version": "3.8.8"
  }
 },
 "nbformat": 4,
 "nbformat_minor": 5
}
